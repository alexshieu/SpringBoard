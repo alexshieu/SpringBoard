{
 "cells": [
  {
   "cell_type": "code",
   "execution_count": 1,
   "metadata": {
    "collapsed": true
   },
   "outputs": [],
   "source": [
    "from urllib.request import urlopen\n",
    "from bs4 import BeautifulSoup\n",
    "import pandas as pd\n",
    "import re\n",
    "from unidecode import unidecode\n",
    "# Goal is to 1st create CSV of year player signed contract to be used for Web Scraper"
   ]
  },
  {
   "cell_type": "code",
   "execution_count": 2,
   "metadata": {
    "collapsed": true
   },
   "outputs": [],
   "source": [
    "filename = \"raw_data\\\\NBA_current_contracts.csv\"\n",
    "df = pd.read_csv(filename, parse_dates=True, encoding = \"ISO-8859-1\")"
   ]
  },
  {
   "cell_type": "code",
   "execution_count": 3,
   "metadata": {
    "scrolled": true
   },
   "outputs": [
    {
     "name": "stdout",
     "output_type": "stream",
     "text": [
      "<class 'pandas.core.frame.DataFrame'>\n",
      "RangeIndex: 560 entries, 0 to 559\n",
      "Data columns (total 4 columns):\n",
      "PLAYER_NAME             560 non-null object\n",
      "AGE                     560 non-null int64\n",
      "CONTRACT_LENGTH_YEAR    560 non-null int64\n",
      "CONTRACT_END_YEAR       560 non-null int64\n",
      "dtypes: int64(3), object(1)\n",
      "memory usage: 17.6+ KB\n"
     ]
    }
   ],
   "source": [
    "# Remove unneeded columns from df\n",
    "columns_not_needed = ['POS', 'TEAM', 'GUARANTEED', '% GTD', 'DOLLARS','AVG. SALARY']\n",
    "df = df.drop(columns_not_needed, axis='columns')\n",
    "# Tidy FREE AGENT column to CONTRACT_END_YEAR\n",
    "# Tidy YRS to CONTRACT_LENGTH_YEAR\n",
    "# Tidy PLAYER to PLAYER_NAME\n",
    "df.rename(columns={'FREE AGENT':'CONTRACT_END_YEAR',\n",
    "                   'YRS':'CONTRACT_LENGTH_YEAR',\n",
    "                   'PLAYER':'PLAYER_NAME'}, inplace=True)\n",
    "df.info()"
   ]
  },
  {
   "cell_type": "code",
   "execution_count": 4,
   "metadata": {},
   "outputs": [
    {
     "data": {
      "text/plain": [
       "0    Russell Westbrook \n",
       "1        Stephen Curry \n",
       "2        Blake Griffin \n",
       "3         James Harden \n",
       "4            John Wall \n",
       "Name: PLAYER_NAME, dtype: object"
      ]
     },
     "execution_count": 4,
     "metadata": {},
     "output_type": "execute_result"
    }
   ],
   "source": [
    "# Clean up PLAYER string\n",
    "df.PLAYER_NAME = [name[0] for name in df.PLAYER_NAME.str.split('(')]\n",
    "df.PLAYER_NAME.head()"
   ]
  },
  {
   "cell_type": "markdown",
   "metadata": {},
   "source": [
    "# Start on cell below to eliminate unicode text and chance to ascii"
   ]
  },
  {
   "cell_type": "code",
   "execution_count": 5,
   "metadata": {},
   "outputs": [
    {
     "data": {
      "text/html": [
       "<div>\n",
       "<style>\n",
       "    .dataframe thead tr:only-child th {\n",
       "        text-align: right;\n",
       "    }\n",
       "\n",
       "    .dataframe thead th {\n",
       "        text-align: left;\n",
       "    }\n",
       "\n",
       "    .dataframe tbody tr th {\n",
       "        vertical-align: top;\n",
       "    }\n",
       "</style>\n",
       "<table border=\"1\" class=\"dataframe\">\n",
       "  <thead>\n",
       "    <tr style=\"text-align: right;\">\n",
       "      <th></th>\n",
       "      <th>PLAYER_NAME</th>\n",
       "      <th>AGE</th>\n",
       "      <th>CONTRACT_LENGTH_YEAR</th>\n",
       "      <th>CONTRACT_END_YEAR</th>\n",
       "      <th>PLAYER_LAST_INITIAL</th>\n",
       "      <th>PLAYER_LAST_NAME_FIRST_FIVE</th>\n",
       "      <th>PLAYER_FIRST_NAME_FIRST_TWO</th>\n",
       "    </tr>\n",
       "  </thead>\n",
       "  <tbody>\n",
       "    <tr>\n",
       "      <th>0</th>\n",
       "      <td>Russell Westbrook</td>\n",
       "      <td>28</td>\n",
       "      <td>5</td>\n",
       "      <td>2023</td>\n",
       "      <td>w</td>\n",
       "      <td>westb</td>\n",
       "      <td>ru</td>\n",
       "    </tr>\n",
       "    <tr>\n",
       "      <th>1</th>\n",
       "      <td>Stephen Curry</td>\n",
       "      <td>29</td>\n",
       "      <td>5</td>\n",
       "      <td>2022</td>\n",
       "      <td>c</td>\n",
       "      <td>curry</td>\n",
       "      <td>st</td>\n",
       "    </tr>\n",
       "    <tr>\n",
       "      <th>2</th>\n",
       "      <td>Blake Griffin</td>\n",
       "      <td>28</td>\n",
       "      <td>5</td>\n",
       "      <td>2022</td>\n",
       "      <td>g</td>\n",
       "      <td>griff</td>\n",
       "      <td>bl</td>\n",
       "    </tr>\n",
       "    <tr>\n",
       "      <th>3</th>\n",
       "      <td>James Harden</td>\n",
       "      <td>28</td>\n",
       "      <td>4</td>\n",
       "      <td>2023</td>\n",
       "      <td>h</td>\n",
       "      <td>harde</td>\n",
       "      <td>ja</td>\n",
       "    </tr>\n",
       "    <tr>\n",
       "      <th>4</th>\n",
       "      <td>John Wall</td>\n",
       "      <td>27</td>\n",
       "      <td>4</td>\n",
       "      <td>2023</td>\n",
       "      <td>w</td>\n",
       "      <td>wall</td>\n",
       "      <td>jo</td>\n",
       "    </tr>\n",
       "  </tbody>\n",
       "</table>\n",
       "</div>"
      ],
      "text/plain": [
       "          PLAYER_NAME  AGE  CONTRACT_LENGTH_YEAR  CONTRACT_END_YEAR  \\\n",
       "0  Russell Westbrook    28                     5               2023   \n",
       "1      Stephen Curry    29                     5               2022   \n",
       "2      Blake Griffin    28                     5               2022   \n",
       "3       James Harden    28                     4               2023   \n",
       "4          John Wall    27                     4               2023   \n",
       "\n",
       "  PLAYER_LAST_INITIAL PLAYER_LAST_NAME_FIRST_FIVE PLAYER_FIRST_NAME_FIRST_TWO  \n",
       "0                   w                       westb                          ru  \n",
       "1                   c                       curry                          st  \n",
       "2                   g                       griff                          bl  \n",
       "3                   h                       harde                          ja  \n",
       "4                   w                        wall                          jo  "
      ]
     },
     "execution_count": 5,
     "metadata": {},
     "output_type": "execute_result"
    }
   ],
   "source": [
    "# In order to web scrape basketball-reference.com we need to create the below names\n",
    "\n",
    "# Clean PLAYER_NAME to remove initials (J.J. Reddick), \n",
    "# dashes (Kidd-Gilchrist) and apostrophes (E'Twaun Moore)\n",
    "df.PLAYER_NAME = df.PLAYER_NAME.str.replace('.', '')\n",
    "df.PLAYER_NAME = df.PLAYER_NAME.str.replace('-', '')\n",
    "df.PLAYER_NAME = df.PLAYER_NAME.str.replace(\"'\", '')\n",
    "\n",
    "# Remove unicode characters and change to ASCII for scraping\n",
    "df.PLAYER_NAME = [unidecode(df.PLAYER_NAME[i]) for i in df.index]\n",
    "\n",
    "# PLAYER_LAST_INITIAL representing the players last initial\n",
    "df['PLAYER_LAST_INITIAL'] = [name[1][0].lower() for name in df.PLAYER_NAME.str.split(' ')]\n",
    "\n",
    "# PLAYER_LAST_NAME_FIRST_FIVE representing the first 5 letters of a player's\n",
    "# last name\n",
    "df['PLAYER_LAST_NAME_FIRST_FIVE'] = [name[1][0:5].lower().rstrip() for name in df.PLAYER_NAME.str.split(' ')]\n",
    "\n",
    "# PLAYER_FIRST_NAME_FIRST_TWO representing the first 2 letters of a player's\n",
    "# first name\n",
    "df['PLAYER_FIRST_NAME_FIRST_TWO'] = [name[0][0:2].lower() for name in df.PLAYER_NAME.str.split(' ')]\n",
    "df.head()"
   ]
  },
  {
   "cell_type": "code",
   "execution_count": 6,
   "metadata": {
    "collapsed": true
   },
   "outputs": [],
   "source": [
    "# Calculate the year contract was signed as CONTRACT_SIGNED_YEAR\n",
    "df['CONTRACT_SIGNED_YEAR'] = df.CONTRACT_END_YEAR - df.CONTRACT_LENGTH_YEAR\n",
    "\n",
    "# All BEFORE_SIGNED_YEAR >= 2017 is set to 2017 as the data used in this\n",
    "# notebook was gathered in 2017 so the year the contract signed is 2017\n",
    "# This may occur as players already under contract may sign an extension\n",
    "# The extension begins after the currenct contract ends which may be in the \n",
    "# future. \n",
    "df.loc[df.CONTRACT_SIGNED_YEAR >= 2017, 'CONTRACT_SIGNED_YEAR']= 2017\n",
    "\n",
    "# Subtract 1 from CONTRACT_SIGNED_YEAR as BEFORE_SIGNED_YEAR \n",
    "# BEFORE_SIGNED_YEAR used to look up season stats before contract was signed\n",
    "df['BEFORE_SIGNED_YEAR'] = df.CONTRACT_SIGNED_YEAR - 1\n",
    "\n",
    "# Drop duplicates \n",
    "df = df[df.PLAYER_NAME.duplicated() == False]"
   ]
  },
  {
   "cell_type": "code",
   "execution_count": 7,
   "metadata": {},
   "outputs": [
    {
     "name": "stdout",
     "output_type": "stream",
     "text": [
      "Cedi Osman \n",
      "http://www.basketball-reference.com/players/o/osmance01.html\n",
      "Frank Ntilinkina \n",
      "http://www.basketball-reference.com/players/n/ntilifr01.html\n",
      "Clint Capela \n",
      "http://www.basketball-reference.com/players/c/capelcl01.html\n",
      "Edrice Adebayo \n",
      "http://www.basketball-reference.com/players/a/adebaed01.html\n",
      "Luc Richard Mbah a Moute \n",
      "http://www.basketball-reference.com/players/r/richalu01.html\n",
      "Metta World Peace \n",
      "http://www.basketball-reference.com/players/w/worldme01.html\n",
      "Sheldon McLellan \n",
      "http://www.basketball-reference.com/players/m/mclelsh01.html\n",
      "George De Paula \n",
      "http://www.basketball-reference.com/players/d/dege01.html\n",
      "Maxi Kleber \n",
      "http://www.basketball-reference.com/players/k/klebema01.html\n",
      "Naz Long \n",
      "http://www.basketball-reference.com/players/l/longna01.html\n"
     ]
    }
   ],
   "source": [
    "# Set the URL Template\n",
    "url_template = 'http://www.basketball-reference.com/players/{PLAYER_LAST_INITIAL}/{PLAYER_LAST_NAME_FIRST_FIVE}{PLAYER_FIRST_NAME_FIRST_TWO}01.html'\n",
    "\n",
    "# SLICE DF JUST FOR WORK. DONT FORGET TO DELETE ME\n",
    "df2 = df #[50:100]\n",
    "\n",
    "# Create empty main player stats dataframe\n",
    "player_stats_df = pd.DataFrame()\n",
    "\n",
    "# Create empty missing player stats dataframe\n",
    "missing_players = []\n",
    "\n",
    "# Iterate over all rows in df pulling out player name in order to input into url_template to scrape basketball-reference.com\n",
    "for index, column in df2.iterrows():\n",
    "    url = url_template.format(PLAYER_LAST_INITIAL=column.PLAYER_LAST_INITIAL,\n",
    "                              PLAYER_LAST_NAME_FIRST_FIVE=column.PLAYER_LAST_NAME_FIRST_FIVE,\n",
    "                              PLAYER_FIRST_NAME_FIRST_TWO=column.PLAYER_FIRST_NAME_FIRST_TWO)\n",
    "    try:\n",
    "        html = urlopen(url)\n",
    "    except Exception as e:\n",
    "        missing_players.append(column.PLAYER_NAME)\n",
    "        print(column.PLAYER_NAME)\n",
    "        print(url)"
   ]
  },
  {
   "cell_type": "markdown",
   "metadata": {},
   "source": [
    "# List is short so for sake of time I will delete from df and manually add by hand later"
   ]
  },
  {
   "cell_type": "code",
   "execution_count": 8,
   "metadata": {},
   "outputs": [
    {
     "name": "stdout",
     "output_type": "stream",
     "text": [
      "['Cedi Osman ', 'Frank Ntilinkina ', 'Clint Capela ', 'Edrice Adebayo ', 'Luc Richard Mbah a Moute ', 'Metta World Peace ', 'Sheldon McLellan ', 'George De Paula ', 'Maxi Kleber ', 'Naz Long ']\n",
      "Cedi Osman \n",
      "Frank Ntilinkina \n",
      "Clint Capela \n",
      "Edrice Adebayo \n",
      "Luc Richard Mbah a Moute \n",
      "Metta World Peace \n",
      "Sheldon McLellan \n",
      "George De Paula \n",
      "Maxi Kleber \n",
      "Naz Long \n"
     ]
    }
   ],
   "source": [
    "print(missing_players)\n",
    "for name in missing_players:\n",
    "    df = df[df.PLAYER_NAME != name]\n",
    "    print(name)\n",
    "missing_players_df = pd.DataFrame(missing_players)\n",
    "missing_players_df.to_csv('missing_players.csv')"
   ]
  },
  {
   "cell_type": "code",
   "execution_count": 9,
   "metadata": {
    "scrolled": true
   },
   "outputs": [
    {
     "name": "stdout",
     "output_type": "stream",
     "text": [
      "<class 'pandas.core.frame.DataFrame'>\n",
      "Int64Index: 543 entries, 0 to 559\n",
      "Data columns (total 9 columns):\n",
      "PLAYER_NAME                    543 non-null object\n",
      "AGE                            543 non-null int64\n",
      "CONTRACT_LENGTH_YEAR           543 non-null int64\n",
      "CONTRACT_END_YEAR              543 non-null int64\n",
      "PLAYER_LAST_INITIAL            543 non-null object\n",
      "PLAYER_LAST_NAME_FIRST_FIVE    543 non-null object\n",
      "PLAYER_FIRST_NAME_FIRST_TWO    543 non-null object\n",
      "CONTRACT_SIGNED_YEAR           543 non-null int64\n",
      "BEFORE_SIGNED_YEAR             543 non-null int64\n",
      "dtypes: int64(5), object(4)\n",
      "memory usage: 42.4+ KB\n"
     ]
    }
   ],
   "source": [
    "df2 = df\n",
    "df2.info()"
   ]
  },
  {
   "cell_type": "code",
   "execution_count": 10,
   "metadata": {},
   "outputs": [
    {
     "name": "stdout",
     "output_type": "stream",
     "text": [
      "Josh Jackson \n",
      "list index out of range\n",
      "http://www.basketball-reference.com/players/j/jacksjo01.html\n",
      "Davon Reed \n",
      "list index out of range\n",
      "http://www.basketball-reference.com/players/r/reedda01.html\n",
      "Justin Patton \n",
      "list index out of range\n",
      "http://www.basketball-reference.com/players/p/pattoju01.html\n",
      "Harry Giles \n",
      "list index out of range\n",
      "http://www.basketball-reference.com/players/g/gilesha01.html\n",
      "Frank Jackson \n",
      "list index out of range\n",
      "http://www.basketball-reference.com/players/j/jacksfr01.html\n",
      "Rade Zagorac \n",
      "list index out of range\n",
      "http://www.basketball-reference.com/players/z/zagorra01.html\n",
      "Thomas Bryant \n",
      "list index out of range\n",
      "http://www.basketball-reference.com/players/b/bryanth01.html\n",
      "Cameron Oliver \n",
      "list index out of range\n",
      "http://www.basketball-reference.com/players/o/oliveca01.html\n",
      "Kennedy Meeks \n",
      "list index out of range\n",
      "http://www.basketball-reference.com/players/m/meekske01.html\n",
      "LJ Peak \n",
      "list index out of range\n",
      "http://www.basketball-reference.com/players/p/peaklj01.html\n",
      "Jeremy Morgan \n",
      "list index out of range\n",
      "http://www.basketball-reference.com/players/m/morgaje01.html\n",
      "Luke Petrasek \n",
      "list index out of range\n",
      "http://www.basketball-reference.com/players/p/petralu01.html\n",
      "Erik McCree \n",
      "list index out of range\n",
      "http://www.basketball-reference.com/players/m/mccreer01.html\n",
      "Landry Nnoko \n",
      "list index out of range\n",
      "http://www.basketball-reference.com/players/n/nnokola01.html\n",
      "Jeremy Senglin \n",
      "list index out of range\n",
      "http://www.basketball-reference.com/players/s/senglje01.html\n",
      "Milton Doyle \n",
      "list index out of range\n",
      "http://www.basketball-reference.com/players/d/doylemi01.html\n",
      "Jordan Mathews \n",
      "list index out of range\n",
      "http://www.basketball-reference.com/players/m/mathejo01.html\n",
      "Alex Hamilton \n",
      "list index out of range\n",
      "http://www.basketball-reference.com/players/h/hamilal01.html\n",
      "Akil Mitchell \n",
      "list index out of range\n",
      "http://www.basketball-reference.com/players/m/mitchak01.html\n",
      "Bryce Alford \n",
      "list index out of range\n",
      "http://www.basketball-reference.com/players/a/alforbr01.html\n",
      "Rashawn Thomas \n",
      "list index out of range\n",
      "http://www.basketball-reference.com/players/t/thomara01.html\n",
      "Amida Brimah \n",
      "list index out of range\n",
      "http://www.basketball-reference.com/players/b/brimaam01.html\n",
      "Taylor Braun \n",
      "list index out of range\n",
      "http://www.basketball-reference.com/players/b/braunta01.html\n",
      "Bronson Koenig \n",
      "list index out of range\n",
      "http://www.basketball-reference.com/players/k/koenibr01.html\n",
      "TJ Williams \n",
      "list index out of range\n",
      "http://www.basketball-reference.com/players/w/willitj01.html\n",
      "Trey McKinneyJones \n",
      "list index out of range\n",
      "http://www.basketball-reference.com/players/m/mckintr01.html\n",
      "Isaiah Hicks \n",
      "list index out of range\n",
      "http://www.basketball-reference.com/players/h/hicksis01.html\n",
      "Tyrone Wallace \n",
      "list index out of range\n",
      "http://www.basketball-reference.com/players/w/wallaty01.html\n",
      "Nigel Hayes \n",
      "list index out of range\n",
      "http://www.basketball-reference.com/players/h/hayesni01.html\n",
      "Ben Moore \n",
      "list index out of range\n",
      "http://www.basketball-reference.com/players/m/moorebe01.html\n",
      "Jamel Artis \n",
      "list index out of range\n",
      "http://www.basketball-reference.com/players/a/artisja01.html\n",
      "Xavier RathanMayes \n",
      "list index out of range\n",
      "http://www.basketball-reference.com/players/r/rathaxa01.html\n",
      "Andrew White \n",
      "list index out of range\n",
      "http://www.basketball-reference.com/players/w/whitean01.html\n",
      "Daniel Dixon \n",
      "list index out of range\n",
      "http://www.basketball-reference.com/players/d/dixonda01.html\n",
      "Troy Caupain \n",
      "list index out of range\n",
      "http://www.basketball-reference.com/players/c/caupatr01.html\n",
      "LaDontae Henton \n",
      "list index out of range\n",
      "http://www.basketball-reference.com/players/h/hentola01.html\n",
      "Peter Jok \n",
      "list index out of range\n",
      "http://www.basketball-reference.com/players/j/jokpe01.html\n",
      "London Perrantes \n",
      "list index out of range\n",
      "http://www.basketball-reference.com/players/p/perralo01.html\n",
      "Amile Jefferson \n",
      "list index out of range\n",
      "http://www.basketball-reference.com/players/j/jeffeam01.html\n",
      "Isaiah Briscoe \n",
      "list index out of range\n",
      "http://www.basketball-reference.com/players/b/briscis01.html\n",
      "Melo Trimble \n",
      "list index out of range\n",
      "http://www.basketball-reference.com/players/t/trimbme01.html\n",
      "Terry Henderson \n",
      "list index out of range\n",
      "http://www.basketball-reference.com/players/h/hendete01.html\n",
      "VJ Beachem \n",
      "list index out of range\n",
      "http://www.basketball-reference.com/players/b/beachvj01.html\n",
      "Luke Kornet \n",
      "list index out of range\n",
      "http://www.basketball-reference.com/players/k/kornelu01.html\n"
     ]
    }
   ],
   "source": [
    "# Set the URL Template\n",
    "url_template = 'http://www.basketball-reference.com/players/{PLAYER_LAST_INITIAL}/{PLAYER_LAST_NAME_FIRST_FIVE}{PLAYER_FIRST_NAME_FIRST_TWO}01.html'\n",
    "\n",
    "# SLICE DF JUST FOR WORK. DONT FORGET TO DELETE ME\n",
    "df2 = df #[50:100]\n",
    "\n",
    "# Create empty main player stats dataframe\n",
    "player_stats_df = pd.DataFrame()\n",
    "\n",
    "# Create empty missing player stats dataframe\n",
    "missing_player_data = []\n",
    "\n",
    "# Iterate over all rows in df pulling out player name in order to input into url_template to scrape basketball-reference.com\n",
    "for index, column in df2.iterrows():\n",
    "    url = url_template.format(PLAYER_LAST_INITIAL=column.PLAYER_LAST_INITIAL,\n",
    "                              PLAYER_LAST_NAME_FIRST_FIVE=column.PLAYER_LAST_NAME_FIRST_FIVE,\n",
    "                              PLAYER_FIRST_NAME_FIRST_TWO=column.PLAYER_FIRST_NAME_FIRST_TWO)\n",
    "    html = urlopen(url)\n",
    "    soup = BeautifulSoup(html, 'html5lib')\n",
    "        \n",
    "    # Get player data and column headers\n",
    "    data_rows = soup.findAll('tr')[1:] \n",
    "    player_data = [[td.getText() for td in data_rows[i].findAll('td')]\n",
    "                       for i in range(len(data_rows))]\n",
    "    try:\n",
    "        column_headers = [th.getText() for th in \n",
    "                      soup.findAll('tr', limit=1)[0].findAll('th')]\n",
    "    except Exception as e:\n",
    "        print(column.PLAYER_NAME)\n",
    "        print(e)\n",
    "        print(url)\n",
    "        missing_player_data.append(column.PLAYER_NAME)"
   ]
  },
  {
   "cell_type": "code",
   "execution_count": 11,
   "metadata": {
    "scrolled": true
   },
   "outputs": [
    {
     "data": {
      "text/plain": [
       "['Josh Jackson ',\n",
       " 'Davon Reed ',\n",
       " 'Justin Patton ',\n",
       " 'Harry Giles ',\n",
       " 'Frank Jackson ',\n",
       " 'Rade Zagorac ',\n",
       " 'Thomas Bryant ',\n",
       " 'Cameron Oliver ',\n",
       " 'Kennedy Meeks ',\n",
       " 'LJ Peak ',\n",
       " 'Jeremy Morgan ',\n",
       " 'Luke Petrasek ',\n",
       " 'Erik McCree ',\n",
       " 'Landry Nnoko ',\n",
       " 'Jeremy Senglin ',\n",
       " 'Milton Doyle ',\n",
       " 'Jordan Mathews ',\n",
       " 'Alex Hamilton ',\n",
       " 'Akil Mitchell ',\n",
       " 'Bryce Alford ',\n",
       " 'Rashawn Thomas ',\n",
       " 'Amida Brimah ',\n",
       " 'Taylor Braun ',\n",
       " 'Bronson Koenig ',\n",
       " 'TJ Williams ',\n",
       " 'Trey McKinneyJones ',\n",
       " 'Isaiah Hicks ',\n",
       " 'Tyrone Wallace ',\n",
       " 'Nigel Hayes ',\n",
       " 'Ben Moore ',\n",
       " 'Jamel Artis ',\n",
       " 'Xavier RathanMayes ',\n",
       " 'Andrew White ',\n",
       " 'Daniel Dixon ',\n",
       " 'Troy Caupain ',\n",
       " 'LaDontae Henton ',\n",
       " 'Peter Jok ',\n",
       " 'London Perrantes ',\n",
       " 'Amile Jefferson ',\n",
       " 'Isaiah Briscoe ',\n",
       " 'Melo Trimble ',\n",
       " 'Terry Henderson ',\n",
       " 'VJ Beachem ',\n",
       " 'Luke Kornet ']"
      ]
     },
     "execution_count": 11,
     "metadata": {},
     "output_type": "execute_result"
    }
   ],
   "source": [
    "missing_player_data"
   ]
  },
  {
   "cell_type": "markdown",
   "metadata": {},
   "source": [
    "All are rookies. \n",
    "Rookies do not have a prior NBA career and can be removed from DF."
   ]
  },
  {
   "cell_type": "code",
   "execution_count": 12,
   "metadata": {
    "collapsed": true
   },
   "outputs": [],
   "source": [
    "missing_player_data_df = pd.DataFrame(missing_player_data)\n",
    "missing_player_data_df.to_csv('rookies.csv')"
   ]
  },
  {
   "cell_type": "code",
   "execution_count": 13,
   "metadata": {
    "scrolled": true
   },
   "outputs": [
    {
     "name": "stdout",
     "output_type": "stream",
     "text": [
      "Josh Jackson \n",
      "Davon Reed \n",
      "Justin Patton \n",
      "Harry Giles \n",
      "Frank Jackson \n",
      "Rade Zagorac \n",
      "Thomas Bryant \n",
      "Cameron Oliver \n",
      "Kennedy Meeks \n",
      "LJ Peak \n",
      "Jeremy Morgan \n",
      "Luke Petrasek \n",
      "Erik McCree \n",
      "Landry Nnoko \n",
      "Jeremy Senglin \n",
      "Milton Doyle \n",
      "Jordan Mathews \n",
      "Alex Hamilton \n",
      "Akil Mitchell \n",
      "Bryce Alford \n",
      "Rashawn Thomas \n",
      "Amida Brimah \n",
      "Taylor Braun \n",
      "Bronson Koenig \n",
      "TJ Williams \n",
      "Trey McKinneyJones \n",
      "Isaiah Hicks \n",
      "Tyrone Wallace \n",
      "Nigel Hayes \n",
      "Ben Moore \n",
      "Jamel Artis \n",
      "Xavier RathanMayes \n",
      "Andrew White \n",
      "Daniel Dixon \n",
      "Troy Caupain \n",
      "LaDontae Henton \n",
      "Peter Jok \n",
      "London Perrantes \n",
      "Amile Jefferson \n",
      "Isaiah Briscoe \n",
      "Melo Trimble \n",
      "Terry Henderson \n",
      "VJ Beachem \n",
      "Luke Kornet \n"
     ]
    }
   ],
   "source": [
    "for name in missing_player_data:\n",
    "    df = df[df.PLAYER_NAME != name]\n",
    "    print(name)"
   ]
  },
  {
   "cell_type": "code",
   "execution_count": 14,
   "metadata": {},
   "outputs": [
    {
     "name": "stdout",
     "output_type": "stream",
     "text": [
      "<class 'pandas.core.frame.DataFrame'>\n",
      "Int64Index: 499 entries, 0 to 559\n",
      "Data columns (total 9 columns):\n",
      "PLAYER_NAME                    499 non-null object\n",
      "AGE                            499 non-null int64\n",
      "CONTRACT_LENGTH_YEAR           499 non-null int64\n",
      "CONTRACT_END_YEAR              499 non-null int64\n",
      "PLAYER_LAST_INITIAL            499 non-null object\n",
      "PLAYER_LAST_NAME_FIRST_FIVE    499 non-null object\n",
      "PLAYER_FIRST_NAME_FIRST_TWO    499 non-null object\n",
      "CONTRACT_SIGNED_YEAR           499 non-null int64\n",
      "BEFORE_SIGNED_YEAR             499 non-null int64\n",
      "dtypes: int64(5), object(4)\n",
      "memory usage: 39.0+ KB\n"
     ]
    }
   ],
   "source": [
    "df.info()"
   ]
  },
  {
   "cell_type": "markdown",
   "metadata": {},
   "source": [
    "# FIX AGE TO BEFORE SIGNED YEAR"
   ]
  },
  {
   "cell_type": "code",
   "execution_count": 15,
   "metadata": {
    "collapsed": true
   },
   "outputs": [],
   "source": [
    "# Set the URL Template\n",
    "url_template = 'http://www.basketball-reference.com/players/{PLAYER_LAST_INITIAL}/{PLAYER_LAST_NAME_FIRST_FIVE}{PLAYER_FIRST_NAME_FIRST_TWO}01.html'\n",
    "\n",
    "# SLICE DF JUST FOR WORK. DONT FORGET TO DELETE ME\n",
    "df2 = df #[50:100]\n",
    "\n",
    "# Create empty main player stats dataframe\n",
    "player_stats_df = pd.DataFrame()\n",
    "\n",
    "# Create empty missing player stats dataframe\n",
    "missing_player_stats = []\n",
    "\n",
    "# Iterate over all rows in df pulling out player name in order to input into url_template to scrape basketball-reference.com\n",
    "for index, column in df2.iterrows():\n",
    "    url = url_template.format(PLAYER_LAST_INITIAL=column.PLAYER_LAST_INITIAL,\n",
    "                              PLAYER_LAST_NAME_FIRST_FIVE=column.PLAYER_LAST_NAME_FIRST_FIVE,\n",
    "                              PLAYER_FIRST_NAME_FIRST_TWO=column.PLAYER_FIRST_NAME_FIRST_TWO)\n",
    "    html = urlopen(url)\n",
    "    soup = BeautifulSoup(html, 'html5lib')\n",
    "        \n",
    "    # Get player data and column headers\n",
    "    data_rows = soup.findAll('tr')[1:] \n",
    "    player_data = [[td.getText() for td in data_rows[i].findAll('td')]\n",
    "                       for i in range(len(data_rows))]\n",
    "    column_headers = [th.getText() for th in \n",
    "                      soup.findAll('tr', limit=1)[0].findAll('th')]\n",
    "    stats_df = pd.DataFrame(player_data, columns=column_headers[1:])\n",
    "    \n",
    "    # Eliminate non-age entries in Age column by removing any rows with more \n",
    "    # then 2 characters as age is 2 character entry (25, 28...)\n",
    "    # note these entries use the season instead of player age as the player \n",
    "    # did not play in NBA due to injury or not being under contract\n",
    "    non_age = [key for key, value in stats_df.Age.iteritems() if len(value)==2]\n",
    "    stats_df = stats_df.iloc[non_age]\n",
    "    stats_df.Age = pd.to_numeric(stats_df.Age)\n",
    "    year_diff = pd.to_numeric(2017 - pd.to_numeric(column.BEFORE_SIGNED_YEAR))\n",
    "    contract_age = pd.to_numeric(column.AGE - year_diff)\n",
    "    for age in stats_df.Age:\n",
    "        if age == contract_age:\n",
    "            stats_df = stats_df[stats_df.Age == age]\n",
    "    \n",
    "    # try:\n",
    "        \n",
    "    #except Exception as e:\n",
    "    #    print(type(stats_df.Age))\n",
    "    #    print(url)\n",
    "    #    print(column.AGE)\n",
    "    #    print(e)  \n",
    "    #    print(column.PLAYER_NAME)\n",
    "    #    missing_player_stats.append(column.PLAYER_NAME)            \n",
    "    \n",
    "    # Insert Player Name\n",
    "    stats_df['PLAYER_NAME'] = column.PLAYER_NAME\n",
    "    player_stats_df = player_stats_df.append(stats_df, ignore_index=True)"
   ]
  },
  {
   "cell_type": "code",
   "execution_count": 16,
   "metadata": {},
   "outputs": [
    {
     "name": "stdout",
     "output_type": "stream",
     "text": [
      "<class 'pandas.core.frame.DataFrame'>\n",
      "RangeIndex: 901 entries, 0 to 900\n",
      "Data columns (total 30 columns):\n",
      "2P             885 non-null object\n",
      "2P%            885 non-null object\n",
      "2PA            885 non-null object\n",
      "3P             885 non-null object\n",
      "3P%            885 non-null object\n",
      "3PA            885 non-null object\n",
      "AST            901 non-null object\n",
      "Age            901 non-null int64\n",
      "BLK            886 non-null object\n",
      "DRB            901 non-null object\n",
      "FG             901 non-null object\n",
      "FG%            901 non-null object\n",
      "FGA            901 non-null object\n",
      "FT             901 non-null object\n",
      "FT%            901 non-null object\n",
      "FTA            901 non-null object\n",
      "G              901 non-null object\n",
      "GS             901 non-null object\n",
      "Lg             901 non-null object\n",
      "MP             901 non-null object\n",
      "ORB            901 non-null object\n",
      "PF             901 non-null object\n",
      "PLAYER_NAME    901 non-null object\n",
      "PTS            901 non-null object\n",
      "Pos            901 non-null object\n",
      "STL            886 non-null object\n",
      "TOV            886 non-null object\n",
      "TRB            901 non-null object\n",
      "Tm             901 non-null object\n",
      "eFG%           885 non-null object\n",
      "dtypes: int64(1), object(29)\n",
      "memory usage: 211.2+ KB\n"
     ]
    }
   ],
   "source": [
    "player_stats_df.info()"
   ]
  },
  {
   "cell_type": "code",
   "execution_count": 17,
   "metadata": {},
   "outputs": [
    {
     "name": "stdout",
     "output_type": "stream",
     "text": [
      "<class 'pandas.core.frame.DataFrame'>\n",
      "RangeIndex: 901 entries, 0 to 900\n",
      "Data columns (total 30 columns):\n",
      "2P             885 non-null object\n",
      "2P%            885 non-null object\n",
      "2PA            885 non-null object\n",
      "3P             885 non-null object\n",
      "3P%            885 non-null object\n",
      "3PA            885 non-null object\n",
      "AST            901 non-null object\n",
      "Age            901 non-null int64\n",
      "BLK            886 non-null object\n",
      "DRB            901 non-null object\n",
      "FG             901 non-null object\n",
      "FG%            901 non-null object\n",
      "FGA            901 non-null object\n",
      "FT             901 non-null object\n",
      "FT%            901 non-null object\n",
      "FTA            901 non-null object\n",
      "G              901 non-null object\n",
      "GS             901 non-null object\n",
      "Lg             901 non-null object\n",
      "MP             901 non-null object\n",
      "ORB            901 non-null object\n",
      "PF             901 non-null object\n",
      "PLAYER_NAME    901 non-null object\n",
      "PTS            901 non-null object\n",
      "Pos            901 non-null object\n",
      "STL            886 non-null object\n",
      "TOV            886 non-null object\n",
      "TRB            901 non-null object\n",
      "Tm             901 non-null object\n",
      "eFG%           885 non-null object\n",
      "dtypes: int64(1), object(29)\n",
      "memory usage: 211.2+ KB\n"
     ]
    }
   ],
   "source": [
    "player_stats_df.info()\n",
    "player_stats_df.to_csv('player_stats_clean.csv')"
   ]
  },
  {
   "cell_type": "code",
   "execution_count": 18,
   "metadata": {},
   "outputs": [
    {
     "name": "stdout",
     "output_type": "stream",
     "text": [
      "<class 'pandas.core.frame.DataFrame'>\n",
      "RangeIndex: 901 entries, 0 to 900\n",
      "Data columns (total 31 columns):\n",
      "Unnamed: 0     901 non-null int64\n",
      "2P             885 non-null float64\n",
      "2P%            875 non-null float64\n",
      "2PA            885 non-null float64\n",
      "3P             880 non-null float64\n",
      "3P%            781 non-null float64\n",
      "3PA            880 non-null float64\n",
      "AST            901 non-null float64\n",
      "Age            901 non-null int64\n",
      "BLK            873 non-null float64\n",
      "DRB            883 non-null float64\n",
      "FG             901 non-null float64\n",
      "FG%            896 non-null float64\n",
      "FGA            901 non-null float64\n",
      "FT             901 non-null float64\n",
      "FT%            862 non-null float64\n",
      "FTA            901 non-null float64\n",
      "G              901 non-null int64\n",
      "GS             854 non-null float64\n",
      "Lg             901 non-null object\n",
      "MP             894 non-null float64\n",
      "ORB            883 non-null float64\n",
      "PF             901 non-null float64\n",
      "PLAYER_NAME    901 non-null object\n",
      "PTS            901 non-null float64\n",
      "Pos            892 non-null object\n",
      "STL            873 non-null float64\n",
      "TOV            884 non-null float64\n",
      "TRB            894 non-null float64\n",
      "Tm             901 non-null object\n",
      "eFG%           880 non-null float64\n",
      "dtypes: float64(24), int64(3), object(4)\n",
      "memory usage: 218.3+ KB\n"
     ]
    }
   ],
   "source": [
    "import pandas as pd\n",
    "player_stats_df = pd.read_csv('player_stats_clean.csv')\n",
    "player_stats_df.info()"
   ]
  },
  {
   "cell_type": "code",
   "execution_count": 19,
   "metadata": {
    "scrolled": false
   },
   "outputs": [
    {
     "ename": "NameError",
     "evalue": "name 'missing_data_df' is not defined",
     "output_type": "error",
     "traceback": [
      "\u001b[1;31m---------------------------------------------------------------------------\u001b[0m",
      "\u001b[1;31mNameError\u001b[0m                                 Traceback (most recent call last)",
      "\u001b[1;32m<ipython-input-19-b612558b84fe>\u001b[0m in \u001b[0;36m<module>\u001b[1;34m()\u001b[0m\n\u001b[0;32m      9\u001b[0m         \u001b[1;32mpass\u001b[0m\u001b[1;33m\u001b[0m\u001b[0m\n\u001b[0;32m     10\u001b[0m \u001b[0mmissing_players2_df\u001b[0m \u001b[1;33m=\u001b[0m \u001b[0mpd\u001b[0m\u001b[1;33m.\u001b[0m\u001b[0mDataFrame\u001b[0m\u001b[1;33m(\u001b[0m\u001b[0mmissing_players2\u001b[0m\u001b[1;33m)\u001b[0m\u001b[1;33m\u001b[0m\u001b[0m\n\u001b[1;32m---> 11\u001b[1;33m \u001b[0mmissing_data_df\u001b[0m\u001b[1;33m.\u001b[0m\u001b[0mto_csv\u001b[0m\u001b[1;33m(\u001b[0m\u001b[1;34m'missing_players2.csv'\u001b[0m\u001b[1;33m)\u001b[0m\u001b[1;33m\u001b[0m\u001b[0m\n\u001b[0m",
      "\u001b[1;31mNameError\u001b[0m: name 'missing_data_df' is not defined"
     ]
    }
   ],
   "source": [
    "#duplicated_data\n",
    "dupe_stats = player_stats_df[player_stats_df.PLAYER_NAME.duplicated(keep=False)]\n",
    "dupe_stats.head()\n",
    "missing_players2 = []\n",
    "for name in dupe_stats.PLAYER_NAME:\n",
    "    if name not in missing_players2:\n",
    "        missing_players2.append(name)\n",
    "    else:\n",
    "        pass\n",
    "missing_players2_df = pd.DataFrame(missing_players2)\n",
    "missing_data_df.to_csv('missing_players2.csv')"
   ]
  },
  {
   "cell_type": "markdown",
   "metadata": {},
   "source": [
    "Combined 'missing_players.csv' and 'missing_players2.csv' offline.\n",
    "Manually completed URLs for missing players\n",
    "Reimporting and re-running the for loop above. Include missing players above.\n",
    "\n",
    "These are rookies, injured or no longer int he NBA and removed: Frank Ntilinkina, Edrice Adebayo, Sheldon McLellan, George De Paula, Maxi Kleber, Naz Long, Marcus Williams, James Blackmon Jr, Matt Jones, Jaylen Johnson "
   ]
  },
  {
   "cell_type": "code",
   "execution_count": null,
   "metadata": {},
   "outputs": [],
   "source": [
    "missing_players_consolidated_df = pd.read_csv('missing_players_consolidated.csv')\n",
    "missing_players_consolidated_df.head()"
   ]
  },
  {
   "cell_type": "code",
   "execution_count": null,
   "metadata": {
    "scrolled": true
   },
   "outputs": [],
   "source": [
    "df3 = pd.merge(missing_players_consolidated_df, df, on='PLAYER_NAME')\n",
    "print(df3.head())\n",
    "df3.info()"
   ]
  },
  {
   "cell_type": "markdown",
   "metadata": {},
   "source": [
    "# NEXT STEPS AFTER ABOVE FIXED"
   ]
  },
  {
   "cell_type": "code",
   "execution_count": null,
   "metadata": {
    "collapsed": true
   },
   "outputs": [],
   "source": [
    "#Combine Age with missing_players_consolidated via right outer join?\n",
    "# and run for loop cell below"
   ]
  },
  {
   "cell_type": "code",
   "execution_count": null,
   "metadata": {},
   "outputs": [],
   "source": [
    "from urllib.request import urlopen\n",
    "from bs4 import BeautifulSoup\n",
    "# Create empty main player stats2 dataframe\n",
    "player_stats_df2 = pd.DataFrame()\n",
    "\n",
    "df2 = df3\n",
    "\n",
    "# Iterate over all rows in df pulling out player name in order to input into url_template to scrape basketball-reference.com\n",
    "for index, column in df2.iterrows():\n",
    "    url = column.url\n",
    "    html = urlopen(url)\n",
    "    soup = BeautifulSoup(html, 'html5lib')\n",
    "        \n",
    "    # Get player data and column headers\n",
    "    data_rows = soup.findAll('tr')[1:] \n",
    "    player_data = [[td.getText() for td in data_rows[i].findAll('td')]\n",
    "                       for i in range(len(data_rows))]\n",
    "    try: \n",
    "        column_headers = [th.getText() for th in \n",
    "                      soup.findAll('tr', limit=1)[0].findAll('th')]\n",
    "    except Exception as e:\n",
    "        print(url)\n",
    "        print(column.PLAYER_NAME)\n",
    "        print(e)\n",
    "    stats_df = pd.DataFrame(player_data, columns=column_headers[1:])\n",
    "    \n",
    "    # Eliminate non-age entries in Age column by removing any rows with more \n",
    "    # then 2 characters as age is 2 character entry (25, 28...)\n",
    "    # note these entries use the season instead of player age as the player \n",
    "    # did not play in NBA due to injury or not being under contract\n",
    "    non_age = [key for key, value in stats_df.Age.iteritems() if len(value)==2]\n",
    "    stats_df = stats_df.iloc[non_age]\n",
    "    stats_df.Age = pd.to_numeric(stats_df.Age)\n",
    "    contract_age = pd.to_numeric(column.AGE)\n",
    "    for age in stats_df.Age:\n",
    "        print(age)\n",
    "        print(contract_age)\n",
    "        print(column.PLAYER_NAME)\n",
    "        if age == contract_age:\n",
    "            stats_df = stats_df[stats_df.Age == age]\n",
    "    \n",
    "    # try:\n",
    "        \n",
    "    #except Exception as e:\n",
    "    #    print(type(stats_df.Age))\n",
    "    #    print(url)\n",
    "    #    print(column.AGE)\n",
    "    #    print(e)  \n",
    "    #    print(column.PLAYER_NAME)\n",
    "    #    missing_player_stats.append(column.PLAYER_NAME)            \n",
    "    \n",
    "    # Insert Player Name\n",
    "    stats_df['PLAYER_NAME'] = column.PLAYER_NAME\n",
    "    player_stats_df2 = player_stats_df2.append(stats_df, ignore_index=True)"
   ]
  },
  {
   "cell_type": "code",
   "execution_count": null,
   "metadata": {},
   "outputs": [],
   "source": [
    "player_stats_df2.info()\n",
    "player_stats_df2.to_csv('player_stats_df2.csv')"
   ]
  },
  {
   "cell_type": "code",
   "execution_count": null,
   "metadata": {},
   "outputs": [],
   "source": [
    "player_stats_df.info()"
   ]
  },
  {
   "cell_type": "code",
   "execution_count": null,
   "metadata": {
    "collapsed": true
   },
   "outputs": [],
   "source": []
  }
 ],
 "metadata": {
  "kernelspec": {
   "display_name": "Python 3",
   "language": "python",
   "name": "python3"
  },
  "language_info": {
   "codemirror_mode": {
    "name": "ipython",
    "version": 3
   },
   "file_extension": ".py",
   "mimetype": "text/x-python",
   "name": "python",
   "nbconvert_exporter": "python",
   "pygments_lexer": "ipython3",
   "version": "3.6.2"
  }
 },
 "nbformat": 4,
 "nbformat_minor": 2
}
