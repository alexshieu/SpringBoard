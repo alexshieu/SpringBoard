{
 "cells": [
  {
   "cell_type": "code",
   "execution_count": 2,
   "metadata": {
    "collapsed": true
   },
   "outputs": [],
   "source": [
    "from urllib.request import urlopen\n",
    "from bs4 import BeautifulSoup\n",
    "import pandas as pd\n",
    "\n",
    "url = \"https://www.basketball-reference.com/players/i/iguodan01.html\"\n",
    "\n",
    "html = urlopen(url)\n",
    "soup = BeautifulSoup(html, \"html5lib\")"
   ]
  },
  {
   "cell_type": "code",
   "execution_count": 4,
   "metadata": {},
   "outputs": [
    {
     "name": "stdout",
     "output_type": "stream",
     "text": [
      "[<tr>\n",
      "         <th aria-label=\"If listed as single number, the year the season ended.★ - Indicates All-Star for league.Only on regular season tables.\" class=\" poptip sort_default_asc center\" data-stat=\"season\" data-tip=\"If listed as single number, the year the season ended.&lt;br&gt;★ - Indicates All-Star for league.&lt;br&gt;Only on regular season tables.\" scope=\"col\">Season</th>\n",
      "         <th aria-label=\"Age of Player at the start of February 1st of that season.\" class=\" poptip sort_default_asc center\" data-stat=\"age\" data-tip=\"Age of Player at the start of February 1st of that season.\" scope=\"col\">Age</th>\n",
      "         <th aria-label=\"Team\" class=\" poptip sort_default_asc center\" data-stat=\"team_id\" data-tip=\"Team\" scope=\"col\">Tm</th>\n",
      "         <th aria-label=\"League\" class=\" poptip sort_default_asc center\" data-stat=\"lg_id\" data-tip=\"League\" scope=\"col\">Lg</th>\n",
      "         <th aria-label=\"Position\" class=\" poptip sort_default_asc center\" data-stat=\"pos\" data-tip=\"Position\" scope=\"col\">Pos</th>\n",
      "         <th aria-label=\"Games\" class=\" poptip center\" data-stat=\"g\" data-tip=\"Games\" scope=\"col\">G</th>\n",
      "         <th aria-label=\"Games Started\" class=\" poptip center\" data-stat=\"gs\" data-tip=\"Games Started\" scope=\"col\">GS</th>\n",
      "         <th aria-label=\"Minutes Played Per Game\" class=\" poptip center\" data-stat=\"mp_per_g\" data-tip=\"Minutes Played Per Game\" scope=\"col\">MP</th>\n",
      "         <th aria-label=\"Field Goals Per Game\" class=\" poptip center\" data-stat=\"fg_per_g\" data-tip=\"Field Goals Per Game\" scope=\"col\">FG</th>\n",
      "         <th aria-label=\"Field Goal Attempts Per Game\" class=\" poptip center\" data-stat=\"fga_per_g\" data-tip=\"Field Goal Attempts Per Game\" scope=\"col\">FGA</th>\n",
      "         <th aria-label=\"Field Goal Percentage\" class=\" poptip center\" data-stat=\"fg_pct\" data-tip=\"Field Goal Percentage\" scope=\"col\">FG%</th>\n",
      "         <th aria-label=\"3-Point Field Goals Per Game\" class=\" poptip center\" data-stat=\"fg3_per_g\" data-tip=\"3-Point Field Goals Per Game\" scope=\"col\">3P</th>\n",
      "         <th aria-label=\"3-Point Field Goal Attempts Per Game\" class=\" poptip center\" data-stat=\"fg3a_per_g\" data-tip=\"3-Point Field Goal Attempts Per Game\" scope=\"col\">3PA</th>\n",
      "         <th aria-label=\"3-Point Field Goal Percentage\" class=\" poptip center\" data-stat=\"fg3_pct\" data-tip=\"3-Point Field Goal Percentage\" scope=\"col\">3P%</th>\n",
      "         <th aria-label=\"2-Point Field Goals Per Game\" class=\" poptip center\" data-stat=\"fg2_per_g\" data-tip=\"2-Point Field Goals Per Game\" scope=\"col\">2P</th>\n",
      "         <th aria-label=\"2-Point Field Goal Attempts Per Game\" class=\" poptip center\" data-stat=\"fg2a_per_g\" data-tip=\"2-Point Field Goal Attempts Per Game\" scope=\"col\">2PA</th>\n",
      "         <th aria-label=\"2-Point Field Goal Percentage\" class=\" poptip center\" data-stat=\"fg2_pct\" data-tip=\"2-Point Field Goal Percentage\" scope=\"col\">2P%</th>\n",
      "         <th aria-label=\"Effective Field Goal Percentage\" class=\" poptip center\" data-stat=\"efg_pct\" data-tip=\"&lt;strong&gt;Effective Field Goal Percentage&lt;/strong&gt;&lt;br&gt;This statistic adjusts for the fact that a 3-point field goal is worth one more point than a 2-point field goal.\" scope=\"col\">eFG%</th>\n",
      "         <th aria-label=\"Free Throws Per Game\" class=\" poptip center\" data-stat=\"ft_per_g\" data-tip=\"Free Throws Per Game\" scope=\"col\">FT</th>\n",
      "         <th aria-label=\"Free Throw Attempts Per Game\" class=\" poptip center\" data-stat=\"fta_per_g\" data-tip=\"Free Throw Attempts Per Game\" scope=\"col\">FTA</th>\n",
      "         <th aria-label=\"Free Throw Percentage\" class=\" poptip center\" data-stat=\"ft_pct\" data-tip=\"Free Throw Percentage\" scope=\"col\">FT%</th>\n",
      "         <th aria-label=\"Offensive Rebounds Per Game\" class=\" poptip center\" data-stat=\"orb_per_g\" data-tip=\"Offensive Rebounds Per Game\" scope=\"col\">ORB</th>\n",
      "         <th aria-label=\"Defensive Rebounds Per Game\" class=\" poptip center\" data-stat=\"drb_per_g\" data-tip=\"Defensive Rebounds Per Game\" scope=\"col\">DRB</th>\n",
      "         <th aria-label=\"Total Rebounds Per Game\" class=\" poptip center\" data-stat=\"trb_per_g\" data-tip=\"Total Rebounds Per Game\" scope=\"col\">TRB</th>\n",
      "         <th aria-label=\"Assists Per Game\" class=\" poptip center\" data-stat=\"ast_per_g\" data-tip=\"Assists Per Game\" scope=\"col\">AST</th>\n",
      "         <th aria-label=\"Steals Per Game\" class=\" poptip center\" data-stat=\"stl_per_g\" data-tip=\"Steals Per Game\" scope=\"col\">STL</th>\n",
      "         <th aria-label=\"Blocks Per Game\" class=\" poptip center\" data-stat=\"blk_per_g\" data-tip=\"Blocks Per Game\" scope=\"col\">BLK</th>\n",
      "         <th aria-label=\"Turnovers Per Game\" class=\" poptip center\" data-stat=\"tov_per_g\" data-tip=\"Turnovers Per Game\" scope=\"col\">TOV</th>\n",
      "         <th aria-label=\"Personal Fouls Per Game\" class=\" poptip center\" data-stat=\"pf_per_g\" data-tip=\"Personal Fouls Per Game\" scope=\"col\">PF</th>\n",
      "         <th aria-label=\"Points Per Game\" class=\" poptip center\" data-stat=\"pts_per_g\" data-tip=\"Points Per Game\" scope=\"col\">PTS</th>\n",
      "      </tr>]\n"
     ]
    }
   ],
   "source": [
    "# Finds all 'tr' in the soup, but only returns the 1st two via limit=2\n",
    "# Note soup.findAll() returns a Tag object\n",
    "# Note returns the 'tr' tag as well as the contents within\n",
    "print(soup.findAll('tr', limit=1))"
   ]
  },
  {
   "cell_type": "code",
   "execution_count": 7,
   "metadata": {},
   "outputs": [
    {
     "name": "stdout",
     "output_type": "stream",
     "text": [
      "[<th aria-label=\"If listed as single number, the year the season ended.★ - Indicates All-Star for league.Only on regular season tables.\" class=\" poptip sort_default_asc center\" data-stat=\"season\" data-tip=\"If listed as single number, the year the season ended.&lt;br&gt;★ - Indicates All-Star for league.&lt;br&gt;Only on regular season tables.\" scope=\"col\">Season</th>, <th aria-label=\"Age of Player at the start of February 1st of that season.\" class=\" poptip sort_default_asc center\" data-stat=\"age\" data-tip=\"Age of Player at the start of February 1st of that season.\" scope=\"col\">Age</th>, <th aria-label=\"Team\" class=\" poptip sort_default_asc center\" data-stat=\"team_id\" data-tip=\"Team\" scope=\"col\">Tm</th>, <th aria-label=\"League\" class=\" poptip sort_default_asc center\" data-stat=\"lg_id\" data-tip=\"League\" scope=\"col\">Lg</th>, <th aria-label=\"Position\" class=\" poptip sort_default_asc center\" data-stat=\"pos\" data-tip=\"Position\" scope=\"col\">Pos</th>, <th aria-label=\"Games\" class=\" poptip center\" data-stat=\"g\" data-tip=\"Games\" scope=\"col\">G</th>, <th aria-label=\"Games Started\" class=\" poptip center\" data-stat=\"gs\" data-tip=\"Games Started\" scope=\"col\">GS</th>, <th aria-label=\"Minutes Played Per Game\" class=\" poptip center\" data-stat=\"mp_per_g\" data-tip=\"Minutes Played Per Game\" scope=\"col\">MP</th>, <th aria-label=\"Field Goals Per Game\" class=\" poptip center\" data-stat=\"fg_per_g\" data-tip=\"Field Goals Per Game\" scope=\"col\">FG</th>, <th aria-label=\"Field Goal Attempts Per Game\" class=\" poptip center\" data-stat=\"fga_per_g\" data-tip=\"Field Goal Attempts Per Game\" scope=\"col\">FGA</th>, <th aria-label=\"Field Goal Percentage\" class=\" poptip center\" data-stat=\"fg_pct\" data-tip=\"Field Goal Percentage\" scope=\"col\">FG%</th>, <th aria-label=\"3-Point Field Goals Per Game\" class=\" poptip center\" data-stat=\"fg3_per_g\" data-tip=\"3-Point Field Goals Per Game\" scope=\"col\">3P</th>, <th aria-label=\"3-Point Field Goal Attempts Per Game\" class=\" poptip center\" data-stat=\"fg3a_per_g\" data-tip=\"3-Point Field Goal Attempts Per Game\" scope=\"col\">3PA</th>, <th aria-label=\"3-Point Field Goal Percentage\" class=\" poptip center\" data-stat=\"fg3_pct\" data-tip=\"3-Point Field Goal Percentage\" scope=\"col\">3P%</th>, <th aria-label=\"2-Point Field Goals Per Game\" class=\" poptip center\" data-stat=\"fg2_per_g\" data-tip=\"2-Point Field Goals Per Game\" scope=\"col\">2P</th>, <th aria-label=\"2-Point Field Goal Attempts Per Game\" class=\" poptip center\" data-stat=\"fg2a_per_g\" data-tip=\"2-Point Field Goal Attempts Per Game\" scope=\"col\">2PA</th>, <th aria-label=\"2-Point Field Goal Percentage\" class=\" poptip center\" data-stat=\"fg2_pct\" data-tip=\"2-Point Field Goal Percentage\" scope=\"col\">2P%</th>, <th aria-label=\"Effective Field Goal Percentage\" class=\" poptip center\" data-stat=\"efg_pct\" data-tip=\"&lt;strong&gt;Effective Field Goal Percentage&lt;/strong&gt;&lt;br&gt;This statistic adjusts for the fact that a 3-point field goal is worth one more point than a 2-point field goal.\" scope=\"col\">eFG%</th>, <th aria-label=\"Free Throws Per Game\" class=\" poptip center\" data-stat=\"ft_per_g\" data-tip=\"Free Throws Per Game\" scope=\"col\">FT</th>, <th aria-label=\"Free Throw Attempts Per Game\" class=\" poptip center\" data-stat=\"fta_per_g\" data-tip=\"Free Throw Attempts Per Game\" scope=\"col\">FTA</th>, <th aria-label=\"Free Throw Percentage\" class=\" poptip center\" data-stat=\"ft_pct\" data-tip=\"Free Throw Percentage\" scope=\"col\">FT%</th>, <th aria-label=\"Offensive Rebounds Per Game\" class=\" poptip center\" data-stat=\"orb_per_g\" data-tip=\"Offensive Rebounds Per Game\" scope=\"col\">ORB</th>, <th aria-label=\"Defensive Rebounds Per Game\" class=\" poptip center\" data-stat=\"drb_per_g\" data-tip=\"Defensive Rebounds Per Game\" scope=\"col\">DRB</th>, <th aria-label=\"Total Rebounds Per Game\" class=\" poptip center\" data-stat=\"trb_per_g\" data-tip=\"Total Rebounds Per Game\" scope=\"col\">TRB</th>, <th aria-label=\"Assists Per Game\" class=\" poptip center\" data-stat=\"ast_per_g\" data-tip=\"Assists Per Game\" scope=\"col\">AST</th>, <th aria-label=\"Steals Per Game\" class=\" poptip center\" data-stat=\"stl_per_g\" data-tip=\"Steals Per Game\" scope=\"col\">STL</th>, <th aria-label=\"Blocks Per Game\" class=\" poptip center\" data-stat=\"blk_per_g\" data-tip=\"Blocks Per Game\" scope=\"col\">BLK</th>, <th aria-label=\"Turnovers Per Game\" class=\" poptip center\" data-stat=\"tov_per_g\" data-tip=\"Turnovers Per Game\" scope=\"col\">TOV</th>, <th aria-label=\"Personal Fouls Per Game\" class=\" poptip center\" data-stat=\"pf_per_g\" data-tip=\"Personal Fouls Per Game\" scope=\"col\">PF</th>, <th aria-label=\"Points Per Game\" class=\" poptip center\" data-stat=\"pts_per_g\" data-tip=\"Points Per Game\" scope=\"col\">PTS</th>]\n"
     ]
    }
   ],
   "source": [
    "# soup is a soup object with findAll function\n",
    "# soup.findAll() is a Tag object with findAll function\n",
    "# soup.findAll().findAll() results in a ResultSet\n",
    "# within the previous slice this finds all of the 'th' tagged text\n",
    "print(soup.findAll('tr', limit=1)[0].findAll('th'))"
   ]
  },
  {
   "cell_type": "code",
   "execution_count": 8,
   "metadata": {},
   "outputs": [
    {
     "name": "stdout",
     "output_type": "stream",
     "text": [
      "['Season', 'Age', 'Tm', 'Lg', 'Pos', 'G', 'GS', 'MP', 'FG', 'FGA', 'FG%', '3P', '3PA', '3P%', '2P', '2PA', '2P%', 'eFG%', 'FT', 'FTA', 'FT%', 'ORB', 'DRB', 'TRB', 'AST', 'STL', 'BLK', 'TOV', 'PF', 'PTS']\n"
     ]
    }
   ],
   "source": [
    "# soup.findAll().findAll() results in a ResultSet object\n",
    "# ResultSet object is iterable array \n",
    "# ResultSet object array values have the getText method\n",
    "\n",
    "column_headers = [th.getText() for th in\n",
    "                  soup.findAll('tr', limit=1)[0].findAll('th')]\n",
    "\n",
    "print(column_headers)"
   ]
  },
  {
   "cell_type": "code",
   "execution_count": 9,
   "metadata": {},
   "outputs": [
    {
     "name": "stdout",
     "output_type": "stream",
     "text": [
      "[<tr class=\"full_table\" id=\"per_game.2005\"><th class=\"left \" data-stat=\"season\" scope=\"row\"><a href=\"/players/i/iguodan01/gamelog/2005/\">2004-05</a></th><td class=\"center \" data-stat=\"age\">21</td><td class=\"left \" data-stat=\"team_id\"><a href=\"/teams/PHI/2005.html\">PHI</a></td><td class=\"left \" data-stat=\"lg_id\"><a href=\"/leagues/NBA_2005.html\">NBA</a></td><td class=\"center \" data-stat=\"pos\">SG</td><td class=\"right \" data-stat=\"g\">82</td><td class=\"right \" data-stat=\"gs\">82</td><td class=\"right \" data-stat=\"mp_per_g\">32.8</td><td class=\"right \" data-stat=\"fg_per_g\">3.3</td><td class=\"right \" data-stat=\"fga_per_g\">6.7</td><td class=\"right \" data-stat=\"fg_pct\">.493</td><td class=\"right \" data-stat=\"fg3_per_g\">0.6</td><td class=\"right \" data-stat=\"fg3a_per_g\">1.7</td><td class=\"right \" data-stat=\"fg3_pct\">.331</td><td class=\"right \" data-stat=\"fg2_per_g\">2.7</td><td class=\"right \" data-stat=\"fg2a_per_g\">4.9</td><td class=\"right \" data-stat=\"fg2_pct\">.550</td><td class=\"right \" data-stat=\"efg_pct\">.536</td><td class=\"right \" data-stat=\"ft_per_g\">1.9</td><td class=\"right \" data-stat=\"fta_per_g\">2.6</td><td class=\"right \" data-stat=\"ft_pct\">.743</td><td class=\"right \" data-stat=\"orb_per_g\">1.1</td><td class=\"right \" data-stat=\"drb_per_g\">4.6</td><td class=\"right \" data-stat=\"trb_per_g\">5.7</td><td class=\"right \" data-stat=\"ast_per_g\">3.0</td><td class=\"right \" data-stat=\"stl_per_g\">1.7</td><td class=\"right \" data-stat=\"blk_per_g\">0.6</td><td class=\"right \" data-stat=\"tov_per_g\">1.7</td><td class=\"right \" data-stat=\"pf_per_g\">2.5</td><td class=\"right \" data-stat=\"pts_per_g\">9.0</td></tr>, <tr class=\"full_table\" id=\"per_game.2006\"><th class=\"left \" data-stat=\"season\" scope=\"row\"><a href=\"/players/i/iguodan01/gamelog/2006/\">2005-06</a></th><td class=\"center \" data-stat=\"age\">22</td><td class=\"left \" data-stat=\"team_id\"><a href=\"/teams/PHI/2006.html\">PHI</a></td><td class=\"left \" data-stat=\"lg_id\"><a href=\"/leagues/NBA_2006.html\">NBA</a></td><td class=\"center \" data-stat=\"pos\">SF</td><td class=\"right \" data-stat=\"g\"><strong>82</strong></td><td class=\"right \" data-stat=\"gs\">82</td><td class=\"right \" data-stat=\"mp_per_g\">37.6</td><td class=\"right \" data-stat=\"fg_per_g\">4.2</td><td class=\"right \" data-stat=\"fga_per_g\">8.4</td><td class=\"right \" data-stat=\"fg_pct\">.500</td><td class=\"right \" data-stat=\"fg3_per_g\">0.7</td><td class=\"right \" data-stat=\"fg3a_per_g\">1.9</td><td class=\"right \" data-stat=\"fg3_pct\">.354</td><td class=\"right \" data-stat=\"fg2_per_g\">3.5</td><td class=\"right \" data-stat=\"fg2a_per_g\">6.5</td><td class=\"right \" data-stat=\"fg2_pct\">.543</td><td class=\"right \" data-stat=\"efg_pct\">.541</td><td class=\"right \" data-stat=\"ft_per_g\">3.2</td><td class=\"right \" data-stat=\"fta_per_g\">4.3</td><td class=\"right \" data-stat=\"ft_pct\">.754</td><td class=\"right \" data-stat=\"orb_per_g\">1.4</td><td class=\"right \" data-stat=\"drb_per_g\">4.4</td><td class=\"right \" data-stat=\"trb_per_g\">5.9</td><td class=\"right \" data-stat=\"ast_per_g\">3.1</td><td class=\"right \" data-stat=\"stl_per_g\">1.6</td><td class=\"right \" data-stat=\"blk_per_g\">0.3</td><td class=\"right \" data-stat=\"tov_per_g\">1.9</td><td class=\"right \" data-stat=\"pf_per_g\">2.4</td><td class=\"right \" data-stat=\"pts_per_g\">12.3</td></tr>, <tr class=\"full_table\" id=\"per_game.2007\"><th class=\"left \" data-stat=\"season\" scope=\"row\"><a href=\"/players/i/iguodan01/gamelog/2007/\">2006-07</a></th><td class=\"center \" data-stat=\"age\">23</td><td class=\"left \" data-stat=\"team_id\"><a href=\"/teams/PHI/2007.html\">PHI</a></td><td class=\"left \" data-stat=\"lg_id\"><a href=\"/leagues/NBA_2007.html\">NBA</a></td><td class=\"center \" data-stat=\"pos\">SG</td><td class=\"right \" data-stat=\"g\">76</td><td class=\"right \" data-stat=\"gs\">76</td><td class=\"right \" data-stat=\"mp_per_g\">40.3</td><td class=\"right \" data-stat=\"fg_per_g\">5.8</td><td class=\"right \" data-stat=\"fga_per_g\">13.0</td><td class=\"right \" data-stat=\"fg_pct\">.447</td><td class=\"right \" data-stat=\"fg3_per_g\">0.6</td><td class=\"right \" data-stat=\"fg3a_per_g\">2.0</td><td class=\"right \" data-stat=\"fg3_pct\">.310</td><td class=\"right \" data-stat=\"fg2_per_g\">5.2</td><td class=\"right \" data-stat=\"fg2a_per_g\">11.0</td><td class=\"right \" data-stat=\"fg2_pct\">.472</td><td class=\"right \" data-stat=\"efg_pct\">.471</td><td class=\"right \" data-stat=\"ft_per_g\">5.9</td><td class=\"right \" data-stat=\"fta_per_g\">7.3</td><td class=\"right \" data-stat=\"ft_pct\">.820</td><td class=\"right \" data-stat=\"orb_per_g\">1.0</td><td class=\"right \" data-stat=\"drb_per_g\">4.7</td><td class=\"right \" data-stat=\"trb_per_g\">5.7</td><td class=\"right \" data-stat=\"ast_per_g\">5.7</td><td class=\"right \" data-stat=\"stl_per_g\">2.0</td><td class=\"right \" data-stat=\"blk_per_g\">0.4</td><td class=\"right \" data-stat=\"tov_per_g\">3.4</td><td class=\"right \" data-stat=\"pf_per_g\">2.6</td><td class=\"right \" data-stat=\"pts_per_g\">18.2</td></tr>, <tr class=\"full_table\" id=\"per_game.2008\"><th class=\"left \" data-stat=\"season\" scope=\"row\"><a href=\"/players/i/iguodan01/gamelog/2008/\">2007-08</a></th><td class=\"center \" data-stat=\"age\">24</td><td class=\"left \" data-stat=\"team_id\"><a href=\"/teams/PHI/2008.html\">PHI</a></td><td class=\"left \" data-stat=\"lg_id\"><a href=\"/leagues/NBA_2008.html\">NBA</a></td><td class=\"center \" data-stat=\"pos\">SF</td><td class=\"right \" data-stat=\"g\"><strong>82</strong></td><td class=\"right \" data-stat=\"gs\">82</td><td class=\"right \" data-stat=\"mp_per_g\">39.5</td><td class=\"right \" data-stat=\"fg_per_g\">7.1</td><td class=\"right \" data-stat=\"fga_per_g\">15.6</td><td class=\"right \" data-stat=\"fg_pct\">.456</td><td class=\"right \" data-stat=\"fg3_per_g\">1.2</td><td class=\"right \" data-stat=\"fg3a_per_g\">3.7</td><td class=\"right \" data-stat=\"fg3_pct\">.329</td><td class=\"right \" data-stat=\"fg2_per_g\">5.9</td><td class=\"right \" data-stat=\"fg2a_per_g\">11.8</td><td class=\"right \" data-stat=\"fg2_pct\">.496</td><td class=\"right \" data-stat=\"efg_pct\">.495</td><td class=\"right \" data-stat=\"ft_per_g\">4.5</td><td class=\"right \" data-stat=\"fta_per_g\">6.2</td><td class=\"right \" data-stat=\"ft_pct\">.721</td><td class=\"right \" data-stat=\"orb_per_g\">1.0</td><td class=\"right \" data-stat=\"drb_per_g\">4.4</td><td class=\"right \" data-stat=\"trb_per_g\">5.4</td><td class=\"right \" data-stat=\"ast_per_g\">4.8</td><td class=\"right \" data-stat=\"stl_per_g\">2.1</td><td class=\"right \" data-stat=\"blk_per_g\">0.6</td><td class=\"right \" data-stat=\"tov_per_g\">2.6</td><td class=\"right \" data-stat=\"pf_per_g\">2.3</td><td class=\"right \" data-stat=\"pts_per_g\">19.9</td></tr>, <tr class=\"full_table\" id=\"per_game.2009\"><th class=\"left \" data-stat=\"season\" scope=\"row\"><a href=\"/players/i/iguodan01/gamelog/2009/\">2008-09</a></th><td class=\"center \" data-stat=\"age\">25</td><td class=\"left \" data-stat=\"team_id\"><a href=\"/teams/PHI/2009.html\">PHI</a></td><td class=\"left \" data-stat=\"lg_id\"><a href=\"/leagues/NBA_2009.html\">NBA</a></td><td class=\"center \" data-stat=\"pos\">SF</td><td class=\"right \" data-stat=\"g\"><strong>82</strong></td><td class=\"right \" data-stat=\"gs\">82</td><td class=\"right \" data-stat=\"mp_per_g\"><strong>39.9</strong></td><td class=\"right \" data-stat=\"fg_per_g\">6.6</td><td class=\"right \" data-stat=\"fga_per_g\">14.0</td><td class=\"right \" data-stat=\"fg_pct\">.473</td><td class=\"right \" data-stat=\"fg3_per_g\">1.0</td><td class=\"right \" data-stat=\"fg3a_per_g\">3.2</td><td class=\"right \" data-stat=\"fg3_pct\">.307</td><td class=\"right \" data-stat=\"fg2_per_g\">5.6</td><td class=\"right \" data-stat=\"fg2a_per_g\">10.8</td><td class=\"right \" data-stat=\"fg2_pct\">.521</td><td class=\"right \" data-stat=\"efg_pct\">.507</td><td class=\"right \" data-stat=\"ft_per_g\">4.6</td><td class=\"right \" data-stat=\"fta_per_g\">6.4</td><td class=\"right \" data-stat=\"ft_pct\">.724</td><td class=\"right \" data-stat=\"orb_per_g\">1.1</td><td class=\"right \" data-stat=\"drb_per_g\">4.6</td><td class=\"right \" data-stat=\"trb_per_g\">5.7</td><td class=\"right \" data-stat=\"ast_per_g\">5.3</td><td class=\"right \" data-stat=\"stl_per_g\">1.6</td><td class=\"right \" data-stat=\"blk_per_g\">0.4</td><td class=\"right \" data-stat=\"tov_per_g\">2.7</td><td class=\"right \" data-stat=\"pf_per_g\">1.9</td><td class=\"right \" data-stat=\"pts_per_g\">18.8</td></tr>, <tr class=\"full_table\" id=\"per_game.2010\"><th class=\"left \" data-stat=\"season\" scope=\"row\"><a href=\"/players/i/iguodan01/gamelog/2010/\">2009-10</a></th><td class=\"center \" data-stat=\"age\">26</td><td class=\"left \" data-stat=\"team_id\"><a href=\"/teams/PHI/2010.html\">PHI</a></td><td class=\"left \" data-stat=\"lg_id\"><a href=\"/leagues/NBA_2010.html\">NBA</a></td><td class=\"center \" data-stat=\"pos\">SF</td><td class=\"right \" data-stat=\"g\"><strong>82</strong></td><td class=\"right \" data-stat=\"gs\">82</td><td class=\"right \" data-stat=\"mp_per_g\">38.9</td><td class=\"right \" data-stat=\"fg_per_g\">6.0</td><td class=\"right \" data-stat=\"fga_per_g\">13.7</td><td class=\"right \" data-stat=\"fg_pct\">.443</td><td class=\"right \" data-stat=\"fg3_per_g\">1.1</td><td class=\"right \" data-stat=\"fg3a_per_g\">3.7</td><td class=\"right \" data-stat=\"fg3_pct\">.310</td><td class=\"right \" data-stat=\"fg2_per_g\">4.9</td><td class=\"right \" data-stat=\"fg2a_per_g\">10.0</td><td class=\"right \" data-stat=\"fg2_pct\">.492</td><td class=\"right \" data-stat=\"efg_pct\">.485</td><td class=\"right \" data-stat=\"ft_per_g\">3.8</td><td class=\"right \" data-stat=\"fta_per_g\">5.2</td><td class=\"right \" data-stat=\"ft_pct\">.733</td><td class=\"right \" data-stat=\"orb_per_g\">1.0</td><td class=\"right \" data-stat=\"drb_per_g\">5.5</td><td class=\"right \" data-stat=\"trb_per_g\">6.5</td><td class=\"right \" data-stat=\"ast_per_g\">5.8</td><td class=\"right \" data-stat=\"stl_per_g\">1.7</td><td class=\"right \" data-stat=\"blk_per_g\">0.7</td><td class=\"right \" data-stat=\"tov_per_g\">2.7</td><td class=\"right \" data-stat=\"pf_per_g\">1.8</td><td class=\"right \" data-stat=\"pts_per_g\">17.1</td></tr>, <tr class=\"full_table\" id=\"per_game.2011\"><th class=\"left \" data-stat=\"season\" scope=\"row\"><a href=\"/players/i/iguodan01/gamelog/2011/\">2010-11</a></th><td class=\"center \" data-stat=\"age\">27</td><td class=\"left \" data-stat=\"team_id\"><a href=\"/teams/PHI/2011.html\">PHI</a></td><td class=\"left \" data-stat=\"lg_id\"><a href=\"/leagues/NBA_2011.html\">NBA</a></td><td class=\"center \" data-stat=\"pos\">SF</td><td class=\"right \" data-stat=\"g\">67</td><td class=\"right \" data-stat=\"gs\">67</td><td class=\"right \" data-stat=\"mp_per_g\">36.9</td><td class=\"right \" data-stat=\"fg_per_g\">5.0</td><td class=\"right \" data-stat=\"fga_per_g\">11.3</td><td class=\"right \" data-stat=\"fg_pct\">.445</td><td class=\"right \" data-stat=\"fg3_per_g\">0.9</td><td class=\"right \" data-stat=\"fg3a_per_g\">2.7</td><td class=\"right \" data-stat=\"fg3_pct\">.337</td><td class=\"right \" data-stat=\"fg2_per_g\">4.1</td><td class=\"right \" data-stat=\"fg2a_per_g\">8.6</td><td class=\"right \" data-stat=\"fg2_pct\">.479</td><td class=\"right \" data-stat=\"efg_pct\">.486</td><td class=\"right \" data-stat=\"ft_per_g\">3.1</td><td class=\"right \" data-stat=\"fta_per_g\">4.5</td><td class=\"right \" data-stat=\"ft_pct\">.693</td><td class=\"right \" data-stat=\"orb_per_g\">0.9</td><td class=\"right \" data-stat=\"drb_per_g\">4.9</td><td class=\"right \" data-stat=\"trb_per_g\">5.8</td><td class=\"right \" data-stat=\"ast_per_g\">6.3</td><td class=\"right \" data-stat=\"stl_per_g\">1.5</td><td class=\"right \" data-stat=\"blk_per_g\">0.6</td><td class=\"right \" data-stat=\"tov_per_g\">2.1</td><td class=\"right \" data-stat=\"pf_per_g\">1.6</td><td class=\"right \" data-stat=\"pts_per_g\">14.1</td></tr>, <tr class=\"full_table\" id=\"per_game.2012\"><th class=\"left \" data-stat=\"season\" scope=\"row\"><a href=\"/players/i/iguodan01/gamelog/2012/\">2011-12</a><span class=\"sr_star\"></span></th><td class=\"center \" data-stat=\"age\">28</td><td class=\"left \" data-stat=\"team_id\"><a href=\"/teams/PHI/2012.html\">PHI</a></td><td class=\"left \" data-stat=\"lg_id\"><a href=\"/leagues/NBA_2012.html\">NBA</a></td><td class=\"center \" data-stat=\"pos\">SF</td><td class=\"right \" data-stat=\"g\">62</td><td class=\"right \" data-stat=\"gs\">62</td><td class=\"right \" data-stat=\"mp_per_g\">35.6</td><td class=\"right \" data-stat=\"fg_per_g\">4.6</td><td class=\"right \" data-stat=\"fga_per_g\">10.2</td><td class=\"right \" data-stat=\"fg_pct\">.454</td><td class=\"right \" data-stat=\"fg3_per_g\">1.2</td><td class=\"right \" data-stat=\"fg3a_per_g\">3.1</td><td class=\"right \" data-stat=\"fg3_pct\">.394</td><td class=\"right \" data-stat=\"fg2_per_g\">3.4</td><td class=\"right \" data-stat=\"fg2a_per_g\">7.1</td><td class=\"right \" data-stat=\"fg2_pct\">.481</td><td class=\"right \" data-stat=\"efg_pct\">.514</td><td class=\"right \" data-stat=\"ft_per_g\">2.0</td><td class=\"right \" data-stat=\"fta_per_g\">3.2</td><td class=\"right \" data-stat=\"ft_pct\">.617</td><td class=\"right \" data-stat=\"orb_per_g\">0.9</td><td class=\"right \" data-stat=\"drb_per_g\">5.2</td><td class=\"right \" data-stat=\"trb_per_g\">6.1</td><td class=\"right \" data-stat=\"ast_per_g\">5.5</td><td class=\"right \" data-stat=\"stl_per_g\">1.7</td><td class=\"right \" data-stat=\"blk_per_g\">0.5</td><td class=\"right \" data-stat=\"tov_per_g\">1.9</td><td class=\"right \" data-stat=\"pf_per_g\">1.5</td><td class=\"right \" data-stat=\"pts_per_g\">12.4</td></tr>, <tr class=\"full_table\" id=\"per_game.2013\"><th class=\"left \" data-stat=\"season\" scope=\"row\"><a href=\"/players/i/iguodan01/gamelog/2013/\">2012-13</a></th><td class=\"center \" data-stat=\"age\">29</td><td class=\"left \" data-stat=\"team_id\"><a href=\"/teams/DEN/2013.html\">DEN</a></td><td class=\"left \" data-stat=\"lg_id\"><a href=\"/leagues/NBA_2013.html\">NBA</a></td><td class=\"center \" data-stat=\"pos\">SG</td><td class=\"right \" data-stat=\"g\">80</td><td class=\"right \" data-stat=\"gs\">80</td><td class=\"right \" data-stat=\"mp_per_g\">34.7</td><td class=\"right \" data-stat=\"fg_per_g\">5.0</td><td class=\"right \" data-stat=\"fga_per_g\">11.0</td><td class=\"right \" data-stat=\"fg_pct\">.451</td><td class=\"right \" data-stat=\"fg3_per_g\">1.1</td><td class=\"right \" data-stat=\"fg3a_per_g\">3.6</td><td class=\"right \" data-stat=\"fg3_pct\">.317</td><td class=\"right \" data-stat=\"fg2_per_g\">3.8</td><td class=\"right \" data-stat=\"fg2a_per_g\">7.4</td><td class=\"right \" data-stat=\"fg2_pct\">.515</td><td class=\"right \" data-stat=\"efg_pct\">.502</td><td class=\"right \" data-stat=\"ft_per_g\">1.9</td><td class=\"right \" data-stat=\"fta_per_g\">3.4</td><td class=\"right \" data-stat=\"ft_pct\">.574</td><td class=\"right \" data-stat=\"orb_per_g\">1.0</td><td class=\"right \" data-stat=\"drb_per_g\">4.3</td><td class=\"right \" data-stat=\"trb_per_g\">5.3</td><td class=\"right \" data-stat=\"ast_per_g\">5.4</td><td class=\"right \" data-stat=\"stl_per_g\">1.7</td><td class=\"right \" data-stat=\"blk_per_g\">0.7</td><td class=\"right \" data-stat=\"tov_per_g\">2.6</td><td class=\"right \" data-stat=\"pf_per_g\">1.6</td><td class=\"right \" data-stat=\"pts_per_g\">13.0</td></tr>, <tr class=\"full_table\" id=\"per_game.2014\"><th class=\"left \" data-stat=\"season\" scope=\"row\"><a href=\"/players/i/iguodan01/gamelog/2014/\">2013-14</a></th><td class=\"center \" data-stat=\"age\">30</td><td class=\"left \" data-stat=\"team_id\"><a href=\"/teams/GSW/2014.html\">GSW</a></td><td class=\"left \" data-stat=\"lg_id\"><a href=\"/leagues/NBA_2014.html\">NBA</a></td><td class=\"center \" data-stat=\"pos\">SF</td><td class=\"right \" data-stat=\"g\">63</td><td class=\"right \" data-stat=\"gs\">63</td><td class=\"right \" data-stat=\"mp_per_g\">32.4</td><td class=\"right \" data-stat=\"fg_per_g\">3.5</td><td class=\"right \" data-stat=\"fga_per_g\">7.3</td><td class=\"right \" data-stat=\"fg_pct\">.480</td><td class=\"right \" data-stat=\"fg3_per_g\">1.0</td><td class=\"right \" data-stat=\"fg3a_per_g\">2.8</td><td class=\"right \" data-stat=\"fg3_pct\">.354</td><td class=\"right \" data-stat=\"fg2_per_g\">2.5</td><td class=\"right \" data-stat=\"fg2a_per_g\">4.5</td><td class=\"right \" data-stat=\"fg2_pct\">.558</td><td class=\"right \" data-stat=\"efg_pct\">.548</td><td class=\"right \" data-stat=\"ft_per_g\">1.4</td><td class=\"right \" data-stat=\"fta_per_g\">2.1</td><td class=\"right \" data-stat=\"ft_pct\">.652</td><td class=\"right \" data-stat=\"orb_per_g\">0.8</td><td class=\"right \" data-stat=\"drb_per_g\">3.8</td><td class=\"right \" data-stat=\"trb_per_g\">4.7</td><td class=\"right \" data-stat=\"ast_per_g\">4.2</td><td class=\"right \" data-stat=\"stl_per_g\">1.5</td><td class=\"right \" data-stat=\"blk_per_g\">0.3</td><td class=\"right \" data-stat=\"tov_per_g\">1.6</td><td class=\"right \" data-stat=\"pf_per_g\">1.6</td><td class=\"right \" data-stat=\"pts_per_g\">9.3</td></tr>, <tr class=\"full_table\" id=\"per_game.2015\"><th class=\"left \" data-stat=\"season\" scope=\"row\"><a href=\"/players/i/iguodan01/gamelog/2015/\">2014-15</a></th><td class=\"center \" data-stat=\"age\">31</td><td class=\"left \" data-stat=\"team_id\"><a href=\"/teams/GSW/2015.html\">GSW</a></td><td class=\"left \" data-stat=\"lg_id\"><a href=\"/leagues/NBA_2015.html\">NBA</a></td><td class=\"center \" data-stat=\"pos\">SF</td><td class=\"right \" data-stat=\"g\">77</td><td class=\"right \" data-stat=\"gs\">0</td><td class=\"right \" data-stat=\"mp_per_g\">26.9</td><td class=\"right \" data-stat=\"fg_per_g\">3.0</td><td class=\"right \" data-stat=\"fga_per_g\">6.4</td><td class=\"right \" data-stat=\"fg_pct\">.466</td><td class=\"right \" data-stat=\"fg3_per_g\">1.0</td><td class=\"right \" data-stat=\"fg3a_per_g\">2.8</td><td class=\"right \" data-stat=\"fg3_pct\">.349</td><td class=\"right \" data-stat=\"fg2_per_g\">2.0</td><td class=\"right \" data-stat=\"fg2a_per_g\">3.7</td><td class=\"right \" data-stat=\"fg2_pct\">.553</td><td class=\"right \" data-stat=\"efg_pct\">.540</td><td class=\"right \" data-stat=\"ft_per_g\">0.9</td><td class=\"right \" data-stat=\"fta_per_g\">1.5</td><td class=\"right \" data-stat=\"ft_pct\">.596</td><td class=\"right \" data-stat=\"orb_per_g\">0.6</td><td class=\"right \" data-stat=\"drb_per_g\">2.8</td><td class=\"right \" data-stat=\"trb_per_g\">3.3</td><td class=\"right \" data-stat=\"ast_per_g\">3.0</td><td class=\"right \" data-stat=\"stl_per_g\">1.2</td><td class=\"right \" data-stat=\"blk_per_g\">0.3</td><td class=\"right \" data-stat=\"tov_per_g\">1.1</td><td class=\"right \" data-stat=\"pf_per_g\">1.3</td><td class=\"right \" data-stat=\"pts_per_g\">7.8</td></tr>, <tr class=\"full_table\" id=\"per_game.2016\"><th class=\"left \" data-stat=\"season\" scope=\"row\"><a href=\"/players/i/iguodan01/gamelog/2016/\">2015-16</a></th><td class=\"center \" data-stat=\"age\">32</td><td class=\"left \" data-stat=\"team_id\"><a href=\"/teams/GSW/2016.html\">GSW</a></td><td class=\"left \" data-stat=\"lg_id\"><a href=\"/leagues/NBA_2016.html\">NBA</a></td><td class=\"center \" data-stat=\"pos\">SF</td><td class=\"right \" data-stat=\"g\">65</td><td class=\"right \" data-stat=\"gs\">1</td><td class=\"right \" data-stat=\"mp_per_g\">26.6</td><td class=\"right \" data-stat=\"fg_per_g\">2.7</td><td class=\"right \" data-stat=\"fga_per_g\">5.7</td><td class=\"right \" data-stat=\"fg_pct\">.478</td><td class=\"right \" data-stat=\"fg3_per_g\">0.8</td><td class=\"right \" data-stat=\"fg3a_per_g\">2.4</td><td class=\"right \" data-stat=\"fg3_pct\">.351</td><td class=\"right \" data-stat=\"fg2_per_g\">1.9</td><td class=\"right \" data-stat=\"fg2a_per_g\">3.3</td><td class=\"right \" data-stat=\"fg2_pct\">.570</td><td class=\"right \" data-stat=\"efg_pct\">.552</td><td class=\"right \" data-stat=\"ft_per_g\">0.8</td><td class=\"right \" data-stat=\"fta_per_g\">1.3</td><td class=\"right \" data-stat=\"ft_pct\">.614</td><td class=\"right \" data-stat=\"orb_per_g\">0.8</td><td class=\"right \" data-stat=\"drb_per_g\">3.2</td><td class=\"right \" data-stat=\"trb_per_g\">4.0</td><td class=\"right \" data-stat=\"ast_per_g\">3.4</td><td class=\"right \" data-stat=\"stl_per_g\">1.1</td><td class=\"right \" data-stat=\"blk_per_g\">0.3</td><td class=\"right \" data-stat=\"tov_per_g\">1.2</td><td class=\"right \" data-stat=\"pf_per_g\">1.6</td><td class=\"right \" data-stat=\"pts_per_g\">7.0</td></tr>, <tr class=\"full_table\" id=\"per_game.2017\"><th class=\"left \" data-stat=\"season\" scope=\"row\"><a href=\"/players/i/iguodan01/gamelog/2017/\">2016-17</a></th><td class=\"center \" data-stat=\"age\">33</td><td class=\"left \" data-stat=\"team_id\"><a href=\"/teams/GSW/2017.html\">GSW</a></td><td class=\"left \" data-stat=\"lg_id\"><a href=\"/leagues/NBA_2017.html\">NBA</a></td><td class=\"center \" data-stat=\"pos\">SF</td><td class=\"right \" data-stat=\"g\">76</td><td class=\"right \" data-stat=\"gs\">0</td><td class=\"right \" data-stat=\"mp_per_g\">26.3</td><td class=\"right \" data-stat=\"fg_per_g\">2.9</td><td class=\"right \" data-stat=\"fga_per_g\">5.5</td><td class=\"right \" data-stat=\"fg_pct\">.528</td><td class=\"right \" data-stat=\"fg3_per_g\">0.8</td><td class=\"right \" data-stat=\"fg3a_per_g\">2.3</td><td class=\"right \" data-stat=\"fg3_pct\">.362</td><td class=\"right \" data-stat=\"fg2_per_g\">2.0</td><td class=\"right \" data-stat=\"fg2a_per_g\">3.1</td><td class=\"right \" data-stat=\"fg2_pct\">.651</td><td class=\"right \" data-stat=\"efg_pct\">.605</td><td class=\"right \" data-stat=\"ft_per_g\">0.9</td><td class=\"right \" data-stat=\"fta_per_g\">1.3</td><td class=\"right \" data-stat=\"ft_pct\">.706</td><td class=\"right \" data-stat=\"orb_per_g\">0.7</td><td class=\"right \" data-stat=\"drb_per_g\">3.3</td><td class=\"right \" data-stat=\"trb_per_g\">4.0</td><td class=\"right \" data-stat=\"ast_per_g\">3.4</td><td class=\"right \" data-stat=\"stl_per_g\">1.0</td><td class=\"right \" data-stat=\"blk_per_g\">0.5</td><td class=\"right \" data-stat=\"tov_per_g\">0.8</td><td class=\"right \" data-stat=\"pf_per_g\">1.3</td><td class=\"right \" data-stat=\"pts_per_g\">7.6</td></tr>, <tr class=\"full_table\" id=\"per_game.2018\"><th class=\"left \" data-stat=\"season\" scope=\"row\"><a href=\"/players/i/iguodan01/gamelog/2018/\">2017-18</a></th><td class=\"center \" data-stat=\"age\">34</td><td class=\"left \" data-stat=\"team_id\"><a href=\"/teams/GSW/2018.html\">GSW</a></td><td class=\"left \" data-stat=\"lg_id\"><a href=\"/leagues/NBA_2018.html\">NBA</a></td><td class=\"center \" data-stat=\"pos\">SF</td><td class=\"right \" data-stat=\"g\">3</td><td class=\"right \" data-stat=\"gs\">0</td><td class=\"right \" data-stat=\"mp_per_g\">25.3</td><td class=\"right \" data-stat=\"fg_per_g\">2.3</td><td class=\"right \" data-stat=\"fga_per_g\">5.7</td><td class=\"right \" data-stat=\"fg_pct\">.412</td><td class=\"right \" data-stat=\"fg3_per_g\">0.3</td><td class=\"right \" data-stat=\"fg3a_per_g\">2.3</td><td class=\"right \" data-stat=\"fg3_pct\">.143</td><td class=\"right \" data-stat=\"fg2_per_g\">2.0</td><td class=\"right \" data-stat=\"fg2a_per_g\">3.3</td><td class=\"right \" data-stat=\"fg2_pct\">.600</td><td class=\"right \" data-stat=\"efg_pct\">.441</td><td class=\"right \" data-stat=\"ft_per_g\">0.3</td><td class=\"right \" data-stat=\"fta_per_g\">0.3</td><td class=\"right \" data-stat=\"ft_pct\">1.000</td><td class=\"right \" data-stat=\"orb_per_g\">1.0</td><td class=\"right \" data-stat=\"drb_per_g\">3.7</td><td class=\"right \" data-stat=\"trb_per_g\">4.7</td><td class=\"right \" data-stat=\"ast_per_g\">3.0</td><td class=\"right \" data-stat=\"stl_per_g\">0.7</td><td class=\"right \" data-stat=\"blk_per_g\">0.3</td><td class=\"right \" data-stat=\"tov_per_g\">0.7</td><td class=\"right \" data-stat=\"pf_per_g\">1.7</td><td class=\"right \" data-stat=\"pts_per_g\">5.3</td></tr>, <tr><th class=\"left \" data-stat=\"season\" scope=\"row\">Career</th><td class=\"center \" data-stat=\"age\"></td><td class=\"left \" data-stat=\"team_id\"></td><td class=\"left \" data-stat=\"lg_id\">NBA</td><td class=\"center \" data-stat=\"pos\"></td><td class=\"right \" data-stat=\"g\">979</td><td class=\"right \" data-stat=\"gs\">759</td><td class=\"right \" data-stat=\"mp_per_g\">34.6</td><td class=\"right \" data-stat=\"fg_per_g\">4.6</td><td class=\"right \" data-stat=\"fga_per_g\">10.0</td><td class=\"right \" data-stat=\"fg_pct\">.465</td><td class=\"right \" data-stat=\"fg3_per_g\">0.9</td><td class=\"right \" data-stat=\"fg3a_per_g\">2.8</td><td class=\"right \" data-stat=\"fg3_pct\">.335</td><td class=\"right \" data-stat=\"fg2_per_g\">3.7</td><td class=\"right \" data-stat=\"fg2a_per_g\">7.2</td><td class=\"right \" data-stat=\"fg2_pct\">.514</td><td class=\"right \" data-stat=\"efg_pct\">.511</td><td class=\"right \" data-stat=\"ft_per_g\">2.7</td><td class=\"right \" data-stat=\"fta_per_g\">3.8</td><td class=\"right \" data-stat=\"ft_pct\">.714</td><td class=\"right \" data-stat=\"orb_per_g\">1.0</td><td class=\"right \" data-stat=\"drb_per_g\">4.3</td><td class=\"right \" data-stat=\"trb_per_g\">5.3</td><td class=\"right \" data-stat=\"ast_per_g\">4.5</td><td class=\"right \" data-stat=\"stl_per_g\">1.6</td><td class=\"right \" data-stat=\"blk_per_g\">0.5</td><td class=\"right \" data-stat=\"tov_per_g\">2.0</td><td class=\"right \" data-stat=\"pf_per_g\">1.9</td><td class=\"right \" data-stat=\"pts_per_g\">13.0</td></tr>, <tr class=\"blank_table partial_table\"><th class=\"left \" data-stat=\"season\" scope=\"row\"></th><td class=\"center \" data-stat=\"age\"></td><td class=\"left \" data-stat=\"team_id\"></td><td class=\"left \" data-stat=\"lg_id\"></td><td class=\"center \" data-stat=\"pos\"></td><td class=\"right \" data-stat=\"g\"></td><td class=\"right \" data-stat=\"gs\"></td><td class=\"right \" data-stat=\"mp_per_g\"></td><td class=\"right \" data-stat=\"fg_per_g\"></td><td class=\"right \" data-stat=\"fga_per_g\"></td><td class=\"right \" data-stat=\"fg_pct\"></td><td class=\"right \" data-stat=\"fg3_per_g\"></td><td class=\"right \" data-stat=\"fg3a_per_g\"></td><td class=\"right \" data-stat=\"fg3_pct\"></td><td class=\"right \" data-stat=\"fg2_per_g\"></td><td class=\"right \" data-stat=\"fg2a_per_g\"></td><td class=\"right \" data-stat=\"fg2_pct\"></td><td class=\"right \" data-stat=\"efg_pct\"></td><td class=\"right \" data-stat=\"ft_per_g\"></td><td class=\"right \" data-stat=\"fta_per_g\"></td><td class=\"right \" data-stat=\"ft_pct\"></td><td class=\"right \" data-stat=\"orb_per_g\"></td><td class=\"right \" data-stat=\"drb_per_g\"></td><td class=\"right \" data-stat=\"trb_per_g\"></td><td class=\"right \" data-stat=\"ast_per_g\"></td><td class=\"right \" data-stat=\"stl_per_g\"></td><td class=\"right \" data-stat=\"blk_per_g\"></td><td class=\"right \" data-stat=\"tov_per_g\"></td><td class=\"right \" data-stat=\"pf_per_g\"></td><td class=\"right \" data-stat=\"pts_per_g\"></td></tr>, <tr><th class=\"left \" data-stat=\"season\" scope=\"row\">8 seasons</th><td class=\"center \" data-stat=\"age\"></td><td class=\"left \" data-stat=\"team_id\"><a href=\"/teams/PHI/\">PHI</a></td><td class=\"left \" data-stat=\"lg_id\">NBA</td><td class=\"center \" data-stat=\"pos\"></td><td class=\"right \" data-stat=\"g\">615</td><td class=\"right \" data-stat=\"gs\">615</td><td class=\"right \" data-stat=\"mp_per_g\">37.7</td><td class=\"right \" data-stat=\"fg_per_g\">5.4</td><td class=\"right \" data-stat=\"fga_per_g\">11.6</td><td class=\"right \" data-stat=\"fg_pct\">.461</td><td class=\"right \" data-stat=\"fg3_per_g\">0.9</td><td class=\"right \" data-stat=\"fg3a_per_g\">2.8</td><td class=\"right \" data-stat=\"fg3_pct\">.331</td><td class=\"right \" data-stat=\"fg2_per_g\">4.5</td><td class=\"right \" data-stat=\"fg2a_per_g\">8.9</td><td class=\"right \" data-stat=\"fg2_pct\">.501</td><td class=\"right \" data-stat=\"efg_pct\">.500</td><td class=\"right \" data-stat=\"ft_per_g\">3.7</td><td class=\"right \" data-stat=\"fta_per_g\">5.0</td><td class=\"right \" data-stat=\"ft_pct\">.737</td><td class=\"right \" data-stat=\"orb_per_g\">1.1</td><td class=\"right \" data-stat=\"drb_per_g\">4.8</td><td class=\"right \" data-stat=\"trb_per_g\">5.8</td><td class=\"right \" data-stat=\"ast_per_g\">4.9</td><td class=\"right \" data-stat=\"stl_per_g\">1.7</td><td class=\"right \" data-stat=\"blk_per_g\">0.5</td><td class=\"right \" data-stat=\"tov_per_g\">2.4</td><td class=\"right \" data-stat=\"pf_per_g\">2.1</td><td class=\"right \" data-stat=\"pts_per_g\">15.3</td></tr>, <tr><th class=\"left \" data-stat=\"season\" scope=\"row\">5 seasons</th><td class=\"center \" data-stat=\"age\"></td><td class=\"left \" data-stat=\"team_id\"><a href=\"/teams/GSW/\">GSW</a></td><td class=\"left \" data-stat=\"lg_id\">NBA</td><td class=\"center \" data-stat=\"pos\"></td><td class=\"right \" data-stat=\"g\">284</td><td class=\"right \" data-stat=\"gs\">64</td><td class=\"right \" data-stat=\"mp_per_g\">27.9</td><td class=\"right \" data-stat=\"fg_per_g\">3.0</td><td class=\"right \" data-stat=\"fga_per_g\">6.2</td><td class=\"right \" data-stat=\"fg_pct\">.486</td><td class=\"right \" data-stat=\"fg3_per_g\">0.9</td><td class=\"right \" data-stat=\"fg3a_per_g\">2.6</td><td class=\"right \" data-stat=\"fg3_pct\">.352</td><td class=\"right \" data-stat=\"fg2_per_g\">2.1</td><td class=\"right \" data-stat=\"fg2a_per_g\">3.6</td><td class=\"right \" data-stat=\"fg2_pct\">.581</td><td class=\"right \" data-stat=\"efg_pct\">.559</td><td class=\"right \" data-stat=\"ft_per_g\">1.0</td><td class=\"right \" data-stat=\"fta_per_g\">1.5</td><td class=\"right \" data-stat=\"ft_pct\">.644</td><td class=\"right \" data-stat=\"orb_per_g\">0.7</td><td class=\"right \" data-stat=\"drb_per_g\">3.3</td><td class=\"right \" data-stat=\"trb_per_g\">4.0</td><td class=\"right \" data-stat=\"ast_per_g\">3.5</td><td class=\"right \" data-stat=\"stl_per_g\">1.2</td><td class=\"right \" data-stat=\"blk_per_g\">0.4</td><td class=\"right \" data-stat=\"tov_per_g\">1.2</td><td class=\"right \" data-stat=\"pf_per_g\">1.4</td><td class=\"right \" data-stat=\"pts_per_g\">7.9</td></tr>, <tr><th class=\"left \" data-stat=\"season\" scope=\"row\">1 season</th><td class=\"center \" data-stat=\"age\"></td><td class=\"left \" data-stat=\"team_id\"><a href=\"/teams/DEN/\">DEN</a></td><td class=\"left \" data-stat=\"lg_id\">NBA</td><td class=\"center \" data-stat=\"pos\"></td><td class=\"right \" data-stat=\"g\">80</td><td class=\"right \" data-stat=\"gs\">80</td><td class=\"right \" data-stat=\"mp_per_g\">34.7</td><td class=\"right \" data-stat=\"fg_per_g\">5.0</td><td class=\"right \" data-stat=\"fga_per_g\">11.0</td><td class=\"right \" data-stat=\"fg_pct\">.451</td><td class=\"right \" data-stat=\"fg3_per_g\">1.1</td><td class=\"right \" data-stat=\"fg3a_per_g\">3.6</td><td class=\"right \" data-stat=\"fg3_pct\">.317</td><td class=\"right \" data-stat=\"fg2_per_g\">3.8</td><td class=\"right \" data-stat=\"fg2a_per_g\">7.4</td><td class=\"right \" data-stat=\"fg2_pct\">.515</td><td class=\"right \" data-stat=\"efg_pct\">.502</td><td class=\"right \" data-stat=\"ft_per_g\">1.9</td><td class=\"right \" data-stat=\"fta_per_g\">3.4</td><td class=\"right \" data-stat=\"ft_pct\">.574</td><td class=\"right \" data-stat=\"orb_per_g\">1.0</td><td class=\"right \" data-stat=\"drb_per_g\">4.3</td><td class=\"right \" data-stat=\"trb_per_g\">5.3</td><td class=\"right \" data-stat=\"ast_per_g\">5.4</td><td class=\"right \" data-stat=\"stl_per_g\">1.7</td><td class=\"right \" data-stat=\"blk_per_g\">0.7</td><td class=\"right \" data-stat=\"tov_per_g\">2.6</td><td class=\"right \" data-stat=\"pf_per_g\">1.6</td><td class=\"right \" data-stat=\"pts_per_g\">13.0</td></tr>]\n"
     ]
    }
   ],
   "source": [
    "# from soup return all except the first 2 elements of the 'tr' tagged data \n",
    "# Note setting x = soup.findAll('tr')[2:] makes x of type list\n",
    "data_rows = soup.findAll('tr')[1:]\n",
    "print(data_rows)"
   ]
  },
  {
   "cell_type": "code",
   "execution_count": 10,
   "metadata": {},
   "outputs": [
    {
     "name": "stdout",
     "output_type": "stream",
     "text": [
      "[['21', 'PHI', 'NBA', 'SG', '82', '82', '32.8', '3.3', '6.7', '.493', '0.6', '1.7', '.331', '2.7', '4.9', '.550', '.536', '1.9', '2.6', '.743', '1.1', '4.6', '5.7', '3.0', '1.7', '0.6', '1.7', '2.5', '9.0'], ['22', 'PHI', 'NBA', 'SF', '82', '82', '37.6', '4.2', '8.4', '.500', '0.7', '1.9', '.354', '3.5', '6.5', '.543', '.541', '3.2', '4.3', '.754', '1.4', '4.4', '5.9', '3.1', '1.6', '0.3', '1.9', '2.4', '12.3'], ['23', 'PHI', 'NBA', 'SG', '76', '76', '40.3', '5.8', '13.0', '.447', '0.6', '2.0', '.310', '5.2', '11.0', '.472', '.471', '5.9', '7.3', '.820', '1.0', '4.7', '5.7', '5.7', '2.0', '0.4', '3.4', '2.6', '18.2'], ['24', 'PHI', 'NBA', 'SF', '82', '82', '39.5', '7.1', '15.6', '.456', '1.2', '3.7', '.329', '5.9', '11.8', '.496', '.495', '4.5', '6.2', '.721', '1.0', '4.4', '5.4', '4.8', '2.1', '0.6', '2.6', '2.3', '19.9'], ['25', 'PHI', 'NBA', 'SF', '82', '82', '39.9', '6.6', '14.0', '.473', '1.0', '3.2', '.307', '5.6', '10.8', '.521', '.507', '4.6', '6.4', '.724', '1.1', '4.6', '5.7', '5.3', '1.6', '0.4', '2.7', '1.9', '18.8'], ['26', 'PHI', 'NBA', 'SF', '82', '82', '38.9', '6.0', '13.7', '.443', '1.1', '3.7', '.310', '4.9', '10.0', '.492', '.485', '3.8', '5.2', '.733', '1.0', '5.5', '6.5', '5.8', '1.7', '0.7', '2.7', '1.8', '17.1'], ['27', 'PHI', 'NBA', 'SF', '67', '67', '36.9', '5.0', '11.3', '.445', '0.9', '2.7', '.337', '4.1', '8.6', '.479', '.486', '3.1', '4.5', '.693', '0.9', '4.9', '5.8', '6.3', '1.5', '0.6', '2.1', '1.6', '14.1'], ['28', 'PHI', 'NBA', 'SF', '62', '62', '35.6', '4.6', '10.2', '.454', '1.2', '3.1', '.394', '3.4', '7.1', '.481', '.514', '2.0', '3.2', '.617', '0.9', '5.2', '6.1', '5.5', '1.7', '0.5', '1.9', '1.5', '12.4'], ['29', 'DEN', 'NBA', 'SG', '80', '80', '34.7', '5.0', '11.0', '.451', '1.1', '3.6', '.317', '3.8', '7.4', '.515', '.502', '1.9', '3.4', '.574', '1.0', '4.3', '5.3', '5.4', '1.7', '0.7', '2.6', '1.6', '13.0'], ['30', 'GSW', 'NBA', 'SF', '63', '63', '32.4', '3.5', '7.3', '.480', '1.0', '2.8', '.354', '2.5', '4.5', '.558', '.548', '1.4', '2.1', '.652', '0.8', '3.8', '4.7', '4.2', '1.5', '0.3', '1.6', '1.6', '9.3'], ['31', 'GSW', 'NBA', 'SF', '77', '0', '26.9', '3.0', '6.4', '.466', '1.0', '2.8', '.349', '2.0', '3.7', '.553', '.540', '0.9', '1.5', '.596', '0.6', '2.8', '3.3', '3.0', '1.2', '0.3', '1.1', '1.3', '7.8'], ['32', 'GSW', 'NBA', 'SF', '65', '1', '26.6', '2.7', '5.7', '.478', '0.8', '2.4', '.351', '1.9', '3.3', '.570', '.552', '0.8', '1.3', '.614', '0.8', '3.2', '4.0', '3.4', '1.1', '0.3', '1.2', '1.6', '7.0'], ['33', 'GSW', 'NBA', 'SF', '76', '0', '26.3', '2.9', '5.5', '.528', '0.8', '2.3', '.362', '2.0', '3.1', '.651', '.605', '0.9', '1.3', '.706', '0.7', '3.3', '4.0', '3.4', '1.0', '0.5', '0.8', '1.3', '7.6'], ['34', 'GSW', 'NBA', 'SF', '3', '0', '25.3', '2.3', '5.7', '.412', '0.3', '2.3', '.143', '2.0', '3.3', '.600', '.441', '0.3', '0.3', '1.000', '1.0', '3.7', '4.7', '3.0', '0.7', '0.3', '0.7', '1.7', '5.3'], ['', '', 'NBA', '', '979', '759', '34.6', '4.6', '10.0', '.465', '0.9', '2.8', '.335', '3.7', '7.2', '.514', '.511', '2.7', '3.8', '.714', '1.0', '4.3', '5.3', '4.5', '1.6', '0.5', '2.0', '1.9', '13.0'], ['', '', '', '', '', '', '', '', '', '', '', '', '', '', '', '', '', '', '', '', '', '', '', '', '', '', '', '', ''], ['', 'PHI', 'NBA', '', '615', '615', '37.7', '5.4', '11.6', '.461', '0.9', '2.8', '.331', '4.5', '8.9', '.501', '.500', '3.7', '5.0', '.737', '1.1', '4.8', '5.8', '4.9', '1.7', '0.5', '2.4', '2.1', '15.3'], ['', 'GSW', 'NBA', '', '284', '64', '27.9', '3.0', '6.2', '.486', '0.9', '2.6', '.352', '2.1', '3.6', '.581', '.559', '1.0', '1.5', '.644', '0.7', '3.3', '4.0', '3.5', '1.2', '0.4', '1.2', '1.4', '7.9'], ['', 'DEN', 'NBA', '', '80', '80', '34.7', '5.0', '11.0', '.451', '1.1', '3.6', '.317', '3.8', '7.4', '.515', '.502', '1.9', '3.4', '.574', '1.0', '4.3', '5.3', '5.4', '1.7', '0.7', '2.6', '1.6', '13.0']]\n",
      "<class 'list'>\n"
     ]
    }
   ],
   "source": [
    "# player data is in 2D list (table) while column headers are a 1D list \n",
    "# need to make player data a 2d list\n",
    "player_data = [[td.getText() for td in data_rows[i].findAll('td')]\n",
    "               for i in range(len(data_rows))]\n",
    "print(player_data)\n",
    "print(type(player_data))\n",
    "# above same as\n",
    "# player_data_02 = []\n",
    "# for i in range(len(data_rows)):\n",
    "    # player_row = []\n",
    "    # for td in data_rows[i].findAll('td'):\n",
    "        # player_row.append(td.getText())\n",
    "    #player_data_02.append(player_row) "
   ]
  },
  {
   "cell_type": "code",
   "execution_count": 11,
   "metadata": {},
   "outputs": [
    {
     "name": "stdout",
     "output_type": "stream",
     "text": [
      "<class 'pandas.core.frame.DataFrame'>\n",
      "RangeIndex: 19 entries, 0 to 18\n",
      "Data columns (total 29 columns):\n",
      "Age     19 non-null object\n",
      "Tm      19 non-null object\n",
      "Lg      19 non-null object\n",
      "Pos     19 non-null object\n",
      "G       19 non-null object\n",
      "GS      19 non-null object\n",
      "MP      19 non-null object\n",
      "FG      19 non-null object\n",
      "FGA     19 non-null object\n",
      "FG%     19 non-null object\n",
      "3P      19 non-null object\n",
      "3PA     19 non-null object\n",
      "3P%     19 non-null object\n",
      "2P      19 non-null object\n",
      "2PA     19 non-null object\n",
      "2P%     19 non-null object\n",
      "eFG%    19 non-null object\n",
      "FT      19 non-null object\n",
      "FTA     19 non-null object\n",
      "FT%     19 non-null object\n",
      "ORB     19 non-null object\n",
      "DRB     19 non-null object\n",
      "TRB     19 non-null object\n",
      "AST     19 non-null object\n",
      "STL     19 non-null object\n",
      "BLK     19 non-null object\n",
      "TOV     19 non-null object\n",
      "PF      19 non-null object\n",
      "PTS     19 non-null object\n",
      "dtypes: object(29)\n",
      "memory usage: 4.4+ KB\n"
     ]
    },
    {
     "data": {
      "text/html": [
       "<div>\n",
       "<style>\n",
       "    .dataframe thead tr:only-child th {\n",
       "        text-align: right;\n",
       "    }\n",
       "\n",
       "    .dataframe thead th {\n",
       "        text-align: left;\n",
       "    }\n",
       "\n",
       "    .dataframe tbody tr th {\n",
       "        vertical-align: top;\n",
       "    }\n",
       "</style>\n",
       "<table border=\"1\" class=\"dataframe\">\n",
       "  <thead>\n",
       "    <tr style=\"text-align: right;\">\n",
       "      <th></th>\n",
       "      <th>Age</th>\n",
       "      <th>Tm</th>\n",
       "      <th>Lg</th>\n",
       "      <th>Pos</th>\n",
       "      <th>G</th>\n",
       "      <th>GS</th>\n",
       "      <th>MP</th>\n",
       "      <th>FG</th>\n",
       "      <th>FGA</th>\n",
       "      <th>FG%</th>\n",
       "      <th>...</th>\n",
       "      <th>FT%</th>\n",
       "      <th>ORB</th>\n",
       "      <th>DRB</th>\n",
       "      <th>TRB</th>\n",
       "      <th>AST</th>\n",
       "      <th>STL</th>\n",
       "      <th>BLK</th>\n",
       "      <th>TOV</th>\n",
       "      <th>PF</th>\n",
       "      <th>PTS</th>\n",
       "    </tr>\n",
       "  </thead>\n",
       "  <tbody>\n",
       "    <tr>\n",
       "      <th>count</th>\n",
       "      <td>19</td>\n",
       "      <td>19</td>\n",
       "      <td>19</td>\n",
       "      <td>19</td>\n",
       "      <td>19</td>\n",
       "      <td>19</td>\n",
       "      <td>19</td>\n",
       "      <td>19</td>\n",
       "      <td>19</td>\n",
       "      <td>19</td>\n",
       "      <td>...</td>\n",
       "      <td>19</td>\n",
       "      <td>19</td>\n",
       "      <td>19</td>\n",
       "      <td>19</td>\n",
       "      <td>19</td>\n",
       "      <td>19</td>\n",
       "      <td>19</td>\n",
       "      <td>19</td>\n",
       "      <td>19</td>\n",
       "      <td>19</td>\n",
       "    </tr>\n",
       "    <tr>\n",
       "      <th>unique</th>\n",
       "      <td>15</td>\n",
       "      <td>4</td>\n",
       "      <td>2</td>\n",
       "      <td>3</td>\n",
       "      <td>13</td>\n",
       "      <td>12</td>\n",
       "      <td>18</td>\n",
       "      <td>15</td>\n",
       "      <td>17</td>\n",
       "      <td>18</td>\n",
       "      <td>...</td>\n",
       "      <td>18</td>\n",
       "      <td>8</td>\n",
       "      <td>14</td>\n",
       "      <td>11</td>\n",
       "      <td>15</td>\n",
       "      <td>10</td>\n",
       "      <td>6</td>\n",
       "      <td>14</td>\n",
       "      <td>13</td>\n",
       "      <td>17</td>\n",
       "    </tr>\n",
       "    <tr>\n",
       "      <th>top</th>\n",
       "      <td></td>\n",
       "      <td>PHI</td>\n",
       "      <td>NBA</td>\n",
       "      <td>SF</td>\n",
       "      <td>82</td>\n",
       "      <td>82</td>\n",
       "      <td>34.7</td>\n",
       "      <td>5.0</td>\n",
       "      <td>11.0</td>\n",
       "      <td>.451</td>\n",
       "      <td>...</td>\n",
       "      <td>.574</td>\n",
       "      <td>1.0</td>\n",
       "      <td>4.3</td>\n",
       "      <td>5.7</td>\n",
       "      <td>3.0</td>\n",
       "      <td>1.7</td>\n",
       "      <td>0.3</td>\n",
       "      <td>2.6</td>\n",
       "      <td>1.6</td>\n",
       "      <td>13.0</td>\n",
       "    </tr>\n",
       "    <tr>\n",
       "      <th>freq</th>\n",
       "      <td>5</td>\n",
       "      <td>9</td>\n",
       "      <td>18</td>\n",
       "      <td>11</td>\n",
       "      <td>5</td>\n",
       "      <td>5</td>\n",
       "      <td>2</td>\n",
       "      <td>3</td>\n",
       "      <td>2</td>\n",
       "      <td>2</td>\n",
       "      <td>...</td>\n",
       "      <td>2</td>\n",
       "      <td>7</td>\n",
       "      <td>3</td>\n",
       "      <td>3</td>\n",
       "      <td>3</td>\n",
       "      <td>6</td>\n",
       "      <td>5</td>\n",
       "      <td>3</td>\n",
       "      <td>5</td>\n",
       "      <td>3</td>\n",
       "    </tr>\n",
       "  </tbody>\n",
       "</table>\n",
       "<p>4 rows × 29 columns</p>\n",
       "</div>"
      ],
      "text/plain": [
       "       Age   Tm   Lg Pos   G  GS    MP   FG   FGA   FG%  ...    FT%  ORB  DRB  \\\n",
       "count   19   19   19  19  19  19    19   19    19    19  ...     19   19   19   \n",
       "unique  15    4    2   3  13  12    18   15    17    18  ...     18    8   14   \n",
       "top         PHI  NBA  SF  82  82  34.7  5.0  11.0  .451  ...   .574  1.0  4.3   \n",
       "freq     5    9   18  11   5   5     2    3     2     2  ...      2    7    3   \n",
       "\n",
       "        TRB  AST  STL  BLK  TOV   PF   PTS  \n",
       "count    19   19   19   19   19   19    19  \n",
       "unique   11   15   10    6   14   13    17  \n",
       "top     5.7  3.0  1.7  0.3  2.6  1.6  13.0  \n",
       "freq      3    3    6    5    3    5     3  \n",
       "\n",
       "[4 rows x 29 columns]"
      ]
     },
     "execution_count": 11,
     "metadata": {},
     "output_type": "execute_result"
    }
   ],
   "source": [
    "df = pd.DataFrame(player_data, columns=column_headers[1:])\n",
    "df.head()\n",
    "df.info()\n",
    "df.describe()"
   ]
  },
  {
   "cell_type": "code",
   "execution_count": null,
   "metadata": {
    "collapsed": true
   },
   "outputs": [],
   "source": []
  }
 ],
 "metadata": {
  "kernelspec": {
   "display_name": "Python 3",
   "language": "python",
   "name": "python3"
  },
  "language_info": {
   "codemirror_mode": {
    "name": "ipython",
    "version": 3
   },
   "file_extension": ".py",
   "mimetype": "text/x-python",
   "name": "python",
   "nbconvert_exporter": "python",
   "pygments_lexer": "ipython3",
   "version": "3.6.1"
  }
 },
 "nbformat": 4,
 "nbformat_minor": 2
}
