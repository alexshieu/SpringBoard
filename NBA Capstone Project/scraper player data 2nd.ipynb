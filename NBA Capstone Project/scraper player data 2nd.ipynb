{
 "cells": [
  {
   "cell_type": "code",
   "execution_count": 1,
   "metadata": {
    "collapsed": true
   },
   "outputs": [],
   "source": [
    "from urllib.request import urlopen\n",
    "from bs4 import BeautifulSoup\n",
    "import pandas as pd\n",
    "import re\n",
    "from unidecode import unidecode\n",
    "# Goal is to 1st create CSV of year player signed contract to be used for Web Scraper"
   ]
  },
  {
   "cell_type": "code",
   "execution_count": 2,
   "metadata": {
    "collapsed": true
   },
   "outputs": [],
   "source": [
    "filename = \"raw_data\\\\NBA_current_contracts.csv\"\n",
    "df = pd.read_csv(filename, parse_dates=True, encoding = \"ISO-8859-1\")"
   ]
  },
  {
   "cell_type": "code",
   "execution_count": 3,
   "metadata": {
    "scrolled": true
   },
   "outputs": [
    {
     "name": "stdout",
     "output_type": "stream",
     "text": [
      "<class 'pandas.core.frame.DataFrame'>\n",
      "RangeIndex: 560 entries, 0 to 559\n",
      "Data columns (total 4 columns):\n",
      "PLAYER_NAME             560 non-null object\n",
      "AGE                     560 non-null int64\n",
      "CONTRACT_LENGTH_YEAR    560 non-null int64\n",
      "CONTRACT_END_YEAR       560 non-null int64\n",
      "dtypes: int64(3), object(1)\n",
      "memory usage: 17.6+ KB\n"
     ]
    }
   ],
   "source": [
    "# Remove unneeded columns from df\n",
    "columns_not_needed = ['POS', 'TEAM', 'GUARANTEED', '% GTD', 'DOLLARS','AVG. SALARY']\n",
    "df = df.drop(columns_not_needed, axis='columns')\n",
    "# Tidy FREE AGENT column to CONTRACT_END_YEAR\n",
    "# Tidy YRS to CONTRACT_LENGTH_YEAR\n",
    "# Tidy PLAYER to PLAYER_NAME\n",
    "df.rename(columns={'FREE AGENT':'CONTRACT_END_YEAR',\n",
    "                   'YRS':'CONTRACT_LENGTH_YEAR',\n",
    "                   'PLAYER':'PLAYER_NAME'}, inplace=True)\n",
    "df.info()"
   ]
  },
  {
   "cell_type": "code",
   "execution_count": 4,
   "metadata": {},
   "outputs": [
    {
     "data": {
      "text/plain": [
       "0    Russell Westbrook \n",
       "1        Stephen Curry \n",
       "2        Blake Griffin \n",
       "3         James Harden \n",
       "4            John Wall \n",
       "Name: PLAYER_NAME, dtype: object"
      ]
     },
     "execution_count": 4,
     "metadata": {},
     "output_type": "execute_result"
    }
   ],
   "source": [
    "# Clean up PLAYER string\n",
    "df.PLAYER_NAME = [name[0] for name in df.PLAYER_NAME.str.split('(')]\n",
    "df.PLAYER_NAME.head()"
   ]
  },
  {
   "cell_type": "markdown",
   "metadata": {},
   "source": [
    "# Start on cell below to eliminate unicode text and chance to ascii"
   ]
  },
  {
   "cell_type": "code",
   "execution_count": 5,
   "metadata": {},
   "outputs": [
    {
     "data": {
      "text/html": [
       "<div>\n",
       "<style>\n",
       "    .dataframe thead tr:only-child th {\n",
       "        text-align: right;\n",
       "    }\n",
       "\n",
       "    .dataframe thead th {\n",
       "        text-align: left;\n",
       "    }\n",
       "\n",
       "    .dataframe tbody tr th {\n",
       "        vertical-align: top;\n",
       "    }\n",
       "</style>\n",
       "<table border=\"1\" class=\"dataframe\">\n",
       "  <thead>\n",
       "    <tr style=\"text-align: right;\">\n",
       "      <th></th>\n",
       "      <th>PLAYER_NAME</th>\n",
       "      <th>AGE</th>\n",
       "      <th>CONTRACT_LENGTH_YEAR</th>\n",
       "      <th>CONTRACT_END_YEAR</th>\n",
       "      <th>PLAYER_LAST_INITIAL</th>\n",
       "      <th>PLAYER_LAST_NAME_FIRST_FIVE</th>\n",
       "      <th>PLAYER_FIRST_NAME_FIRST_TWO</th>\n",
       "    </tr>\n",
       "  </thead>\n",
       "  <tbody>\n",
       "    <tr>\n",
       "      <th>0</th>\n",
       "      <td>Russell Westbrook</td>\n",
       "      <td>28</td>\n",
       "      <td>5</td>\n",
       "      <td>2023</td>\n",
       "      <td>w</td>\n",
       "      <td>westb</td>\n",
       "      <td>ru</td>\n",
       "    </tr>\n",
       "    <tr>\n",
       "      <th>1</th>\n",
       "      <td>Stephen Curry</td>\n",
       "      <td>29</td>\n",
       "      <td>5</td>\n",
       "      <td>2022</td>\n",
       "      <td>c</td>\n",
       "      <td>curry</td>\n",
       "      <td>st</td>\n",
       "    </tr>\n",
       "    <tr>\n",
       "      <th>2</th>\n",
       "      <td>Blake Griffin</td>\n",
       "      <td>28</td>\n",
       "      <td>5</td>\n",
       "      <td>2022</td>\n",
       "      <td>g</td>\n",
       "      <td>griff</td>\n",
       "      <td>bl</td>\n",
       "    </tr>\n",
       "    <tr>\n",
       "      <th>3</th>\n",
       "      <td>James Harden</td>\n",
       "      <td>28</td>\n",
       "      <td>4</td>\n",
       "      <td>2023</td>\n",
       "      <td>h</td>\n",
       "      <td>harde</td>\n",
       "      <td>ja</td>\n",
       "    </tr>\n",
       "    <tr>\n",
       "      <th>4</th>\n",
       "      <td>John Wall</td>\n",
       "      <td>27</td>\n",
       "      <td>4</td>\n",
       "      <td>2023</td>\n",
       "      <td>w</td>\n",
       "      <td>wall</td>\n",
       "      <td>jo</td>\n",
       "    </tr>\n",
       "  </tbody>\n",
       "</table>\n",
       "</div>"
      ],
      "text/plain": [
       "          PLAYER_NAME  AGE  CONTRACT_LENGTH_YEAR  CONTRACT_END_YEAR  \\\n",
       "0  Russell Westbrook    28                     5               2023   \n",
       "1      Stephen Curry    29                     5               2022   \n",
       "2      Blake Griffin    28                     5               2022   \n",
       "3       James Harden    28                     4               2023   \n",
       "4          John Wall    27                     4               2023   \n",
       "\n",
       "  PLAYER_LAST_INITIAL PLAYER_LAST_NAME_FIRST_FIVE PLAYER_FIRST_NAME_FIRST_TWO  \n",
       "0                   w                       westb                          ru  \n",
       "1                   c                       curry                          st  \n",
       "2                   g                       griff                          bl  \n",
       "3                   h                       harde                          ja  \n",
       "4                   w                        wall                          jo  "
      ]
     },
     "execution_count": 5,
     "metadata": {},
     "output_type": "execute_result"
    }
   ],
   "source": [
    "# In order to web scrape basketball-reference.com we need to create the below names\n",
    "\n",
    "# Clean PLAYER_NAME to remove initials (J.J. Reddick), \n",
    "# dashes (Kidd-Gilchrist) and apostrophes (E'Twaun Moore)\n",
    "df.PLAYER_NAME = df.PLAYER_NAME.str.replace('.', '')\n",
    "df.PLAYER_NAME = df.PLAYER_NAME.str.replace('-', '')\n",
    "df.PLAYER_NAME = df.PLAYER_NAME.str.replace(\"'\", '')\n",
    "\n",
    "# Remove unicode characters and change to ASCII for scraping\n",
    "df.PLAYER_NAME = [unidecode(df.PLAYER_NAME[i]) for i in df.index]\n",
    "\n",
    "# PLAYER_LAST_INITIAL representing the players last initial\n",
    "df['PLAYER_LAST_INITIAL'] = [name[1][0].lower() for name in df.PLAYER_NAME.str.split(' ')]\n",
    "\n",
    "# PLAYER_LAST_NAME_FIRST_FIVE representing the first 5 letters of a player's\n",
    "# last name\n",
    "df['PLAYER_LAST_NAME_FIRST_FIVE'] = [name[1][0:5].lower().rstrip() for name in df.PLAYER_NAME.str.split(' ')]\n",
    "\n",
    "# PLAYER_FIRST_NAME_FIRST_TWO representing the first 2 letters of a player's\n",
    "# first name\n",
    "df['PLAYER_FIRST_NAME_FIRST_TWO'] = [name[0][0:2].lower() for name in df.PLAYER_NAME.str.split(' ')]\n",
    "df.head()"
   ]
  },
  {
   "cell_type": "code",
   "execution_count": 6,
   "metadata": {
    "collapsed": true
   },
   "outputs": [],
   "source": [
    "# Calculate the year contract was signed as CONTRACT_SIGNED_YEAR\n",
    "df['CONTRACT_SIGNED_YEAR'] = df.CONTRACT_END_YEAR - df.CONTRACT_LENGTH_YEAR\n",
    "\n",
    "# All BEFORE_SIGNED_YEAR >= 2017 is set to 2017 as the data used in this\n",
    "# notebook was gathered in 2017 so the year the contract signed is 2017\n",
    "# This may occur as players already under contract may sign an extension\n",
    "# The extension begins after the currenct contract ends which may be in the \n",
    "# future. \n",
    "df.loc[df.CONTRACT_SIGNED_YEAR >= 2017, 'CONTRACT_SIGNED_YEAR']= 2017\n",
    "\n",
    "# Subtract 1 from CONTRACT_SIGNED_YEAR as BEFORE_SIGNED_YEAR \n",
    "# BEFORE_SIGNED_YEAR used to look up season stats before contract was signed\n",
    "df['BEFORE_SIGNED_YEAR'] = df.CONTRACT_SIGNED_YEAR - 1"
   ]
  },
  {
   "cell_type": "code",
   "execution_count": 36,
   "metadata": {},
   "outputs": [
    {
     "name": "stdout",
     "output_type": "stream",
     "text": [
      "Cedi Osman \n",
      "http://www.basketball-reference.com/players/o/osmance01.html\n",
      "Frank Ntilinkina \n",
      "http://www.basketball-reference.com/players/n/ntilifr01.html\n",
      "Clint Capela \n",
      "http://www.basketball-reference.com/players/c/capelcl01.html\n",
      "Edrice Adebayo \n",
      "http://www.basketball-reference.com/players/a/adebaed01.html\n",
      "Luc Richard Mbah a Moute \n",
      "http://www.basketball-reference.com/players/r/richalu01.html\n",
      "Metta World Peace \n",
      "http://www.basketball-reference.com/players/w/worldme01.html\n",
      "Sheldon McLellan \n",
      "http://www.basketball-reference.com/players/m/mclelsh01.html\n",
      "George De Paula \n",
      "http://www.basketball-reference.com/players/d/dege01.html\n",
      "Maxi Kleber \n",
      "http://www.basketball-reference.com/players/k/klebema01.html\n",
      "Naz Long \n",
      "http://www.basketball-reference.com/players/l/longna01.html\n"
     ]
    }
   ],
   "source": [
    "# Set the URL Template\n",
    "url_template = 'http://www.basketball-reference.com/players/{PLAYER_LAST_INITIAL}/{PLAYER_LAST_NAME_FIRST_FIVE}{PLAYER_FIRST_NAME_FIRST_TWO}01.html'\n",
    "\n",
    "# SLICE DF JUST FOR WORK. DONT FORGET TO DELETE ME\n",
    "df2 = df #[50:100]\n",
    "\n",
    "# Create empty main player stats dataframe\n",
    "player_stats_df = pd.DataFrame()\n",
    "\n",
    "# Create empty missing player stats dataframe\n",
    "missing_players = []\n",
    "\n",
    "# Iterate over all rows in df pulling out player name in order to input into url_template to scrape basketball-reference.com\n",
    "for index, column in df2.iterrows():\n",
    "    url = url_template.format(PLAYER_LAST_INITIAL=column.PLAYER_LAST_INITIAL,\n",
    "                              PLAYER_LAST_NAME_FIRST_FIVE=column.PLAYER_LAST_NAME_FIRST_FIVE,\n",
    "                              PLAYER_FIRST_NAME_FIRST_TWO=column.PLAYER_FIRST_NAME_FIRST_TWO)\n",
    "    try:\n",
    "        html = urlopen(url)\n",
    "    except Exception as e:\n",
    "        missing_players.append(column.PLAYER_NAME)\n",
    "        print(column.PLAYER_NAME)\n",
    "        print(url)"
   ]
  },
  {
   "cell_type": "markdown",
   "metadata": {},
   "source": [
    "# List is short so for sake of time I will delete from df and manually add by hand later"
   ]
  },
  {
   "cell_type": "code",
   "execution_count": 37,
   "metadata": {},
   "outputs": [
    {
     "name": "stdout",
     "output_type": "stream",
     "text": [
      "['Cedi Osman ', 'Frank Ntilinkina ', 'Clint Capela ', 'Edrice Adebayo ', 'Luc Richard Mbah a Moute ', 'Metta World Peace ', 'Sheldon McLellan ', 'George De Paula ', 'Maxi Kleber ', 'Naz Long ']\n",
      "Cedi Osman \n",
      "Frank Ntilinkina \n",
      "Clint Capela \n",
      "Edrice Adebayo \n",
      "Luc Richard Mbah a Moute \n",
      "Metta World Peace \n",
      "Sheldon McLellan \n",
      "George De Paula \n",
      "Maxi Kleber \n",
      "Naz Long \n"
     ]
    }
   ],
   "source": [
    "print(missing_players)\n",
    "for name in missing_players:\n",
    "    df = df[df.PLAYER_NAME != name]\n",
    "    print(name)\n",
    "missing_players_df = pd.DataFrame(missing_players)\n",
    "missing_players_df.to_csv('missing_players.csv')"
   ]
  },
  {
   "cell_type": "code",
   "execution_count": 46,
   "metadata": {
    "scrolled": true
   },
   "outputs": [
    {
     "name": "stdout",
     "output_type": "stream",
     "text": [
      "<class 'pandas.core.frame.DataFrame'>\n",
      "Int64Index: 550 entries, 0 to 559\n",
      "Data columns (total 9 columns):\n",
      "PLAYER_NAME                    550 non-null object\n",
      "AGE                            550 non-null int64\n",
      "CONTRACT_LENGTH_YEAR           550 non-null int64\n",
      "CONTRACT_END_YEAR              550 non-null int64\n",
      "PLAYER_LAST_INITIAL            550 non-null object\n",
      "PLAYER_LAST_NAME_FIRST_FIVE    550 non-null object\n",
      "PLAYER_FIRST_NAME_FIRST_TWO    550 non-null object\n",
      "CONTRACT_SIGNED_YEAR           550 non-null int64\n",
      "BEFORE_SIGNED_YEAR             550 non-null int64\n",
      "dtypes: int64(5), object(4)\n",
      "memory usage: 63.0+ KB\n"
     ]
    }
   ],
   "source": [
    "df2 = df\n",
    "df2.info()"
   ]
  },
  {
   "cell_type": "code",
   "execution_count": 50,
   "metadata": {},
   "outputs": [
    {
     "name": "stdout",
     "output_type": "stream",
     "text": [
      "Josh Jackson \n",
      "list index out of range\n",
      "http://www.basketball-reference.com/players/j/jacksjo01.html\n",
      "Davon Reed \n",
      "list index out of range\n",
      "http://www.basketball-reference.com/players/r/reedda01.html\n",
      "Justin Patton \n",
      "list index out of range\n",
      "http://www.basketball-reference.com/players/p/pattoju01.html\n",
      "Harry Giles \n",
      "list index out of range\n",
      "http://www.basketball-reference.com/players/g/gilesha01.html\n",
      "Frank Jackson \n",
      "list index out of range\n",
      "http://www.basketball-reference.com/players/j/jacksfr01.html\n",
      "Tyler Lydon \n",
      "list index out of range\n",
      "http://www.basketball-reference.com/players/l/lydonty01.html\n",
      "Rade Zagorac \n",
      "list index out of range\n",
      "http://www.basketball-reference.com/players/z/zagorra01.html\n",
      "Thomas Bryant \n",
      "list index out of range\n",
      "http://www.basketball-reference.com/players/b/bryanth01.html\n",
      "Cameron Oliver \n",
      "list index out of range\n",
      "http://www.basketball-reference.com/players/o/oliveca01.html\n",
      "Kennedy Meeks \n",
      "list index out of range\n",
      "http://www.basketball-reference.com/players/m/meekske01.html\n",
      "LJ Peak \n",
      "list index out of range\n",
      "http://www.basketball-reference.com/players/p/peaklj01.html\n",
      "Jeremy Morgan \n",
      "list index out of range\n",
      "http://www.basketball-reference.com/players/m/morgaje01.html\n",
      "Luke Petrasek \n",
      "list index out of range\n",
      "http://www.basketball-reference.com/players/p/petralu01.html\n",
      "Erik McCree \n",
      "list index out of range\n",
      "http://www.basketball-reference.com/players/m/mccreer01.html\n",
      "Landry Nnoko \n",
      "list index out of range\n",
      "http://www.basketball-reference.com/players/n/nnokola01.html\n",
      "Jeremy Senglin \n",
      "list index out of range\n",
      "http://www.basketball-reference.com/players/s/senglje01.html\n",
      "Milton Doyle \n",
      "list index out of range\n",
      "http://www.basketball-reference.com/players/d/doylemi01.html\n",
      "Jordan Mathews \n",
      "list index out of range\n",
      "http://www.basketball-reference.com/players/m/mathejo01.html\n",
      "Alex Hamilton \n",
      "list index out of range\n",
      "http://www.basketball-reference.com/players/h/hamilal01.html\n",
      "Jacob Pullen \n",
      "list index out of range\n",
      "http://www.basketball-reference.com/players/p/pulleja01.html\n",
      "Akil Mitchell \n",
      "list index out of range\n",
      "http://www.basketball-reference.com/players/m/mitchak01.html\n",
      "Bryce Alford \n",
      "list index out of range\n",
      "http://www.basketball-reference.com/players/a/alforbr01.html\n",
      "Rashawn Thomas \n",
      "list index out of range\n",
      "http://www.basketball-reference.com/players/t/thomara01.html\n",
      "Amida Brimah \n",
      "list index out of range\n",
      "http://www.basketball-reference.com/players/b/brimaam01.html\n",
      "Taylor Braun \n",
      "list index out of range\n",
      "http://www.basketball-reference.com/players/b/braunta01.html\n",
      "Bronson Koenig \n",
      "list index out of range\n",
      "http://www.basketball-reference.com/players/k/koenibr01.html\n",
      "TJ Williams \n",
      "list index out of range\n",
      "http://www.basketball-reference.com/players/w/willitj01.html\n",
      "Trey McKinneyJones \n",
      "list index out of range\n",
      "http://www.basketball-reference.com/players/m/mckintr01.html\n",
      "Isaiah Hicks \n",
      "list index out of range\n",
      "http://www.basketball-reference.com/players/h/hicksis01.html\n",
      "Tyrone Wallace \n",
      "list index out of range\n",
      "http://www.basketball-reference.com/players/w/wallaty01.html\n",
      "Nigel Hayes \n",
      "list index out of range\n",
      "http://www.basketball-reference.com/players/h/hayesni01.html\n",
      "Ben Moore \n",
      "list index out of range\n",
      "http://www.basketball-reference.com/players/m/moorebe01.html\n",
      "Jamel Artis \n",
      "list index out of range\n",
      "http://www.basketball-reference.com/players/a/artisja01.html\n",
      "Antonius Cleveland \n",
      "list index out of range\n",
      "http://www.basketball-reference.com/players/c/clevean01.html\n",
      "Xavier RathanMayes \n",
      "list index out of range\n",
      "http://www.basketball-reference.com/players/r/rathaxa01.html\n",
      "Andrew White \n",
      "list index out of range\n",
      "http://www.basketball-reference.com/players/w/whitean01.html\n",
      "Daniel Dixon \n",
      "list index out of range\n",
      "http://www.basketball-reference.com/players/d/dixonda01.html\n",
      "Troy Caupain \n",
      "list index out of range\n",
      "http://www.basketball-reference.com/players/c/caupatr01.html\n",
      "LaDontae Henton \n",
      "list index out of range\n",
      "http://www.basketball-reference.com/players/h/hentola01.html\n",
      "Peter Jok \n",
      "list index out of range\n",
      "http://www.basketball-reference.com/players/j/jokpe01.html\n",
      "London Perrantes \n",
      "list index out of range\n",
      "http://www.basketball-reference.com/players/p/perralo01.html\n",
      "Amile Jefferson \n",
      "list index out of range\n",
      "http://www.basketball-reference.com/players/j/jeffeam01.html\n",
      "Isaiah Briscoe \n",
      "list index out of range\n",
      "http://www.basketball-reference.com/players/b/briscis01.html\n",
      "Melo Trimble \n",
      "list index out of range\n",
      "http://www.basketball-reference.com/players/t/trimbme01.html\n",
      "Terry Henderson \n",
      "list index out of range\n",
      "http://www.basketball-reference.com/players/h/hendete01.html\n",
      "VJ Beachem \n",
      "list index out of range\n",
      "http://www.basketball-reference.com/players/b/beachvj01.html\n",
      "Luke Kornet \n",
      "list index out of range\n",
      "http://www.basketball-reference.com/players/k/kornelu01.html\n"
     ]
    }
   ],
   "source": [
    "# Set the URL Template\n",
    "url_template = 'http://www.basketball-reference.com/players/{PLAYER_LAST_INITIAL}/{PLAYER_LAST_NAME_FIRST_FIVE}{PLAYER_FIRST_NAME_FIRST_TWO}01.html'\n",
    "\n",
    "# SLICE DF JUST FOR WORK. DONT FORGET TO DELETE ME\n",
    "df2 = df #[50:100]\n",
    "\n",
    "# Create empty main player stats dataframe\n",
    "player_stats_df = pd.DataFrame()\n",
    "\n",
    "# Create empty missing player stats dataframe\n",
    "missing_player_data = []\n",
    "\n",
    "# Iterate over all rows in df pulling out player name in order to input into url_template to scrape basketball-reference.com\n",
    "for index, column in df2.iterrows():\n",
    "    url = url_template.format(PLAYER_LAST_INITIAL=column.PLAYER_LAST_INITIAL,\n",
    "                              PLAYER_LAST_NAME_FIRST_FIVE=column.PLAYER_LAST_NAME_FIRST_FIVE,\n",
    "                              PLAYER_FIRST_NAME_FIRST_TWO=column.PLAYER_FIRST_NAME_FIRST_TWO)\n",
    "    html = urlopen(url)\n",
    "    soup = BeautifulSoup(html, 'html5lib')\n",
    "        \n",
    "    # Get player data and column headers\n",
    "    data_rows = soup.findAll('tr')[1:] \n",
    "    player_data = [[td.getText() for td in data_rows[i].findAll('td')]\n",
    "                       for i in range(len(data_rows))]\n",
    "    try:\n",
    "        column_headers = [th.getText() for th in \n",
    "                      soup.findAll('tr', limit=1)[0].findAll('th')]\n",
    "    except Exception as e:\n",
    "        print(column.PLAYER_NAME)\n",
    "        print(e)\n",
    "        print(url)\n",
    "        missing_player_data.append(column.PLAYER_NAME)"
   ]
  },
  {
   "cell_type": "code",
   "execution_count": 51,
   "metadata": {},
   "outputs": [
    {
     "data": {
      "text/plain": [
       "['Josh Jackson ',\n",
       " 'Davon Reed ',\n",
       " 'Justin Patton ',\n",
       " 'Harry Giles ',\n",
       " 'Frank Jackson ',\n",
       " 'Tyler Lydon ',\n",
       " 'Rade Zagorac ',\n",
       " 'Thomas Bryant ',\n",
       " 'Cameron Oliver ',\n",
       " 'Kennedy Meeks ',\n",
       " 'LJ Peak ',\n",
       " 'Jeremy Morgan ',\n",
       " 'Luke Petrasek ',\n",
       " 'Erik McCree ',\n",
       " 'Landry Nnoko ',\n",
       " 'Jeremy Senglin ',\n",
       " 'Milton Doyle ',\n",
       " 'Jordan Mathews ',\n",
       " 'Alex Hamilton ',\n",
       " 'Jacob Pullen ',\n",
       " 'Akil Mitchell ',\n",
       " 'Bryce Alford ',\n",
       " 'Rashawn Thomas ',\n",
       " 'Amida Brimah ',\n",
       " 'Taylor Braun ',\n",
       " 'Bronson Koenig ',\n",
       " 'TJ Williams ',\n",
       " 'Trey McKinneyJones ',\n",
       " 'Isaiah Hicks ',\n",
       " 'Tyrone Wallace ',\n",
       " 'Nigel Hayes ',\n",
       " 'Ben Moore ',\n",
       " 'Jamel Artis ',\n",
       " 'Antonius Cleveland ',\n",
       " 'Xavier RathanMayes ',\n",
       " 'Andrew White ',\n",
       " 'Daniel Dixon ',\n",
       " 'Troy Caupain ',\n",
       " 'LaDontae Henton ',\n",
       " 'Peter Jok ',\n",
       " 'London Perrantes ',\n",
       " 'Amile Jefferson ',\n",
       " 'Isaiah Briscoe ',\n",
       " 'Melo Trimble ',\n",
       " 'Terry Henderson ',\n",
       " 'VJ Beachem ',\n",
       " 'Luke Kornet ']"
      ]
     },
     "execution_count": 51,
     "metadata": {},
     "output_type": "execute_result"
    }
   ],
   "source": [
    "missing_player_data"
   ]
  },
  {
   "cell_type": "code",
   "execution_count": null,
   "metadata": {
    "collapsed": true
   },
   "outputs": [],
   "source": [
    "    stats_df = pd.DataFrame(player_data, columns=column_headers[1:])"
   ]
  },
  {
   "cell_type": "markdown",
   "metadata": {},
   "source": [
    "# REAL CODE BELOW"
   ]
  },
  {
   "cell_type": "code",
   "execution_count": 16,
   "metadata": {},
   "outputs": [
    {
     "ename": "TypeError",
     "evalue": "cannot concatenate a non-NDFrame object",
     "output_type": "error",
     "traceback": [
      "\u001b[1;31m---------------------------------------------------------------------------\u001b[0m",
      "\u001b[1;31mIndexError\u001b[0m                                Traceback (most recent call last)",
      "\u001b[1;32m<ipython-input-16-244cfdc8e07b>\u001b[0m in \u001b[0;36m<module>\u001b[1;34m()\u001b[0m\n\u001b[0;32m     32\u001b[0m         column_headers = [th.getText() for th in \n\u001b[1;32m---> 33\u001b[1;33m                       soup.findAll('tr', limit=1)[0].findAll('th')]\n\u001b[0m\u001b[0;32m     34\u001b[0m     \u001b[1;32mexcept\u001b[0m \u001b[0mException\u001b[0m \u001b[1;32mas\u001b[0m \u001b[0me\u001b[0m\u001b[1;33m:\u001b[0m\u001b[1;33m\u001b[0m\u001b[0m\n",
      "\u001b[1;31mIndexError\u001b[0m: list index out of range",
      "\nDuring handling of the above exception, another exception occurred:\n",
      "\u001b[1;31mTypeError\u001b[0m                                 Traceback (most recent call last)",
      "\u001b[1;32m<ipython-input-16-244cfdc8e07b>\u001b[0m in \u001b[0;36m<module>\u001b[1;34m()\u001b[0m\n\u001b[0;32m     33\u001b[0m                       soup.findAll('tr', limit=1)[0].findAll('th')]\n\u001b[0;32m     34\u001b[0m     \u001b[1;32mexcept\u001b[0m \u001b[0mException\u001b[0m \u001b[1;32mas\u001b[0m \u001b[0me\u001b[0m\u001b[1;33m:\u001b[0m\u001b[1;33m\u001b[0m\u001b[0m\n\u001b[1;32m---> 35\u001b[1;33m         \u001b[0mmissing_stats_df\u001b[0m\u001b[1;33m[\u001b[0m\u001b[1;34m'PLAYER_NAME'\u001b[0m\u001b[1;33m]\u001b[0m\u001b[1;33m.\u001b[0m\u001b[0mappend\u001b[0m\u001b[1;33m(\u001b[0m\u001b[0mcolumn\u001b[0m\u001b[1;33m.\u001b[0m\u001b[0mPLAYER_NAME\u001b[0m\u001b[1;33m)\u001b[0m\u001b[1;33m\u001b[0m\u001b[0m\n\u001b[0m\u001b[0;32m     36\u001b[0m         \u001b[0mmissing_stats_df\u001b[0m\u001b[1;33m[\u001b[0m\u001b[1;34m'e'\u001b[0m\u001b[1;33m]\u001b[0m\u001b[1;33m.\u001b[0m\u001b[0mappend\u001b[0m\u001b[1;33m(\u001b[0m\u001b[0me\u001b[0m\u001b[1;33m)\u001b[0m\u001b[1;33m\u001b[0m\u001b[0m\n\u001b[0;32m     37\u001b[0m         \u001b[0mmissing_stats_df\u001b[0m\u001b[1;33m[\u001b[0m\u001b[1;34m'url'\u001b[0m\u001b[1;33m]\u001b[0m\u001b[1;33m.\u001b[0m\u001b[0mappend\u001b[0m\u001b[1;33m(\u001b[0m\u001b[0murl\u001b[0m\u001b[1;33m)\u001b[0m\u001b[1;33m\u001b[0m\u001b[0m\n",
      "\u001b[1;32m~\\Anaconda3\\lib\\site-packages\\pandas\\core\\series.py\u001b[0m in \u001b[0;36mappend\u001b[1;34m(self, to_append, ignore_index, verify_integrity)\u001b[0m\n\u001b[0;32m   1551\u001b[0m             \u001b[0mto_concat\u001b[0m \u001b[1;33m=\u001b[0m \u001b[1;33m[\u001b[0m\u001b[0mself\u001b[0m\u001b[1;33m,\u001b[0m \u001b[0mto_append\u001b[0m\u001b[1;33m]\u001b[0m\u001b[1;33m\u001b[0m\u001b[0m\n\u001b[0;32m   1552\u001b[0m         return concat(to_concat, ignore_index=ignore_index,\n\u001b[1;32m-> 1553\u001b[1;33m                       verify_integrity=verify_integrity)\n\u001b[0m\u001b[0;32m   1554\u001b[0m \u001b[1;33m\u001b[0m\u001b[0m\n\u001b[0;32m   1555\u001b[0m     \u001b[1;32mdef\u001b[0m \u001b[0m_binop\u001b[0m\u001b[1;33m(\u001b[0m\u001b[0mself\u001b[0m\u001b[1;33m,\u001b[0m \u001b[0mother\u001b[0m\u001b[1;33m,\u001b[0m \u001b[0mfunc\u001b[0m\u001b[1;33m,\u001b[0m \u001b[0mlevel\u001b[0m\u001b[1;33m=\u001b[0m\u001b[1;32mNone\u001b[0m\u001b[1;33m,\u001b[0m \u001b[0mfill_value\u001b[0m\u001b[1;33m=\u001b[0m\u001b[1;32mNone\u001b[0m\u001b[1;33m)\u001b[0m\u001b[1;33m:\u001b[0m\u001b[1;33m\u001b[0m\u001b[0m\n",
      "\u001b[1;32m~\\Anaconda3\\lib\\site-packages\\pandas\\core\\reshape\\concat.py\u001b[0m in \u001b[0;36mconcat\u001b[1;34m(objs, axis, join, join_axes, ignore_index, keys, levels, names, verify_integrity, copy)\u001b[0m\n\u001b[0;32m    204\u001b[0m                        \u001b[0mkeys\u001b[0m\u001b[1;33m=\u001b[0m\u001b[0mkeys\u001b[0m\u001b[1;33m,\u001b[0m \u001b[0mlevels\u001b[0m\u001b[1;33m=\u001b[0m\u001b[0mlevels\u001b[0m\u001b[1;33m,\u001b[0m \u001b[0mnames\u001b[0m\u001b[1;33m=\u001b[0m\u001b[0mnames\u001b[0m\u001b[1;33m,\u001b[0m\u001b[1;33m\u001b[0m\u001b[0m\n\u001b[0;32m    205\u001b[0m                        \u001b[0mverify_integrity\u001b[0m\u001b[1;33m=\u001b[0m\u001b[0mverify_integrity\u001b[0m\u001b[1;33m,\u001b[0m\u001b[1;33m\u001b[0m\u001b[0m\n\u001b[1;32m--> 206\u001b[1;33m                        copy=copy)\n\u001b[0m\u001b[0;32m    207\u001b[0m     \u001b[1;32mreturn\u001b[0m \u001b[0mop\u001b[0m\u001b[1;33m.\u001b[0m\u001b[0mget_result\u001b[0m\u001b[1;33m(\u001b[0m\u001b[1;33m)\u001b[0m\u001b[1;33m\u001b[0m\u001b[0m\n\u001b[0;32m    208\u001b[0m \u001b[1;33m\u001b[0m\u001b[0m\n",
      "\u001b[1;32m~\\Anaconda3\\lib\\site-packages\\pandas\\core\\reshape\\concat.py\u001b[0m in \u001b[0;36m__init__\u001b[1;34m(self, objs, axis, join, join_axes, keys, levels, names, ignore_index, verify_integrity, copy)\u001b[0m\n\u001b[0;32m    261\u001b[0m         \u001b[1;32mfor\u001b[0m \u001b[0mobj\u001b[0m \u001b[1;32min\u001b[0m \u001b[0mobjs\u001b[0m\u001b[1;33m:\u001b[0m\u001b[1;33m\u001b[0m\u001b[0m\n\u001b[0;32m    262\u001b[0m             \u001b[1;32mif\u001b[0m \u001b[1;32mnot\u001b[0m \u001b[0misinstance\u001b[0m\u001b[1;33m(\u001b[0m\u001b[0mobj\u001b[0m\u001b[1;33m,\u001b[0m \u001b[0mNDFrame\u001b[0m\u001b[1;33m)\u001b[0m\u001b[1;33m:\u001b[0m\u001b[1;33m\u001b[0m\u001b[0m\n\u001b[1;32m--> 263\u001b[1;33m                 \u001b[1;32mraise\u001b[0m \u001b[0mTypeError\u001b[0m\u001b[1;33m(\u001b[0m\u001b[1;34m\"cannot concatenate a non-NDFrame object\"\u001b[0m\u001b[1;33m)\u001b[0m\u001b[1;33m\u001b[0m\u001b[0m\n\u001b[0m\u001b[0;32m    264\u001b[0m \u001b[1;33m\u001b[0m\u001b[0m\n\u001b[0;32m    265\u001b[0m             \u001b[1;31m# consolidate\u001b[0m\u001b[1;33m\u001b[0m\u001b[1;33m\u001b[0m\u001b[0m\n",
      "\u001b[1;31mTypeError\u001b[0m: cannot concatenate a non-NDFrame object"
     ]
    }
   ],
   "source": [
    "# Set the URL Template\n",
    "url_template = 'http://www.basketball-reference.com/players/{PLAYER_LAST_INITIAL}/{PLAYER_LAST_NAME_FIRST_FIVE}{PLAYER_FIRST_NAME_FIRST_TWO}01.html'\n",
    "\n",
    "# SLICE DF JUST FOR WORK. DONT FORGET TO DELETE ME\n",
    "df2 = df #[50:100]\n",
    "\n",
    "# Create empty main player stats dataframe\n",
    "player_stats_df = pd.DataFrame()\n",
    "\n",
    "# Create empty missing player stats dataframe\n",
    "missing_stats_df = pd.DataFrame()\n",
    "missing_stats_df['PLAYER_NAME'] = ''\n",
    "\n",
    "# Iterate over all rows in df pulling out player name in order to input into url_template to scrape basketball-reference.com\n",
    "for index, column in df2.iterrows():\n",
    "    url = url_template.format(PLAYER_LAST_INITIAL=column.PLAYER_LAST_INITIAL,\n",
    "                              PLAYER_LAST_NAME_FIRST_FIVE=column.PLAYER_LAST_NAME_FIRST_FIVE,\n",
    "                              PLAYER_FIRST_NAME_FIRST_TWO=column.PLAYER_FIRST_NAME_FIRST_TWO)\n",
    "    try:\n",
    "        html = urlopen(url)\n",
    "    except Exception as e:\n",
    "        missing_stats_df['PLAYER_NAME'].append(column.PLAYER_NAME)\n",
    "    soup = BeautifulSoup(html, 'html5lib')\n",
    "    \n",
    "    # Get player data and column headers\n",
    "    data_rows = soup.findAll('tr')[1:] \n",
    "    player_data = [[td.getText() for td in data_rows[i].findAll('td')]\n",
    "                for i in range(len(data_rows))]\n",
    "    \n",
    "    # Capture players that do not have webpages in missing player stats dataframe\n",
    "    try:\n",
    "        column_headers = [th.getText() for th in \n",
    "                      soup.findAll('tr', limit=1)[0].findAll('th')]\n",
    "    except Exception as e:\n",
    "        missing_stats_df['PLAYER_NAME'].append(column.PLAYER_NAME)\n",
    "        missing_stats_df['e'].append(e)\n",
    "        missing_stats_df['url'].append(url)\n",
    "    \n",
    "    stats_df = pd.DataFrame(player_data, columns=column_headers[1:])\n",
    "    \n",
    "    # Eliminate non-age entries in Age column by removing any rows with more \n",
    "    # then 2 characters as age is 2 character entry (25, 28...)\n",
    "    # note these entries use the season instead of player age as the player \n",
    "    # did not play in NBA due to injury or not being under contract\n",
    "    try:\n",
    "        non_age = [key for key, value in stats_df.Age.iteritems() if len(value)==2]\n",
    "        stats_df = stats_df.iloc[non_age]\n",
    "    except Exception as e:\n",
    "            print(type(stats_df.Age))\n",
    "            print(url)\n",
    "            print(column.AGE)\n",
    "            print(e)  \n",
    "    stats_df.Age = pd.to_numeric(stats_df.Age)\n",
    "    \n",
    "    # If no data exists for the age in which a player signed his contract that \n",
    "    # means he was not playing in the NBA that year (injury or no contract) \n",
    "    # Go back one year to look up previous years stats\n",
    "    #contract_age = column.AGE    \n",
    "    \n",
    "    #for age in stats_df.Age:\n",
    "    #    try:\n",
    "    #        stats_df = stats_df.loc[age == contract_age]\n",
    "    #    except Exception as e:\n",
    "    #        print(url)\n",
    "    #        print(contract_age)\n",
    "    #        contract_age -= 1\n",
    "        \n",
    "\n",
    "   # Insert Player Name\n",
    "#    stats_df['PLAYER_NAME'] = column.PLAYER_NAME\n",
    "    \n",
    "    # Append to main dataframe\n",
    "#    player_stats_df = player_stats_df.append(stats_df, ignore_index=True)\n",
    "\n",
    "#player_stats_df.tail()"
   ]
  },
  {
   "cell_type": "code",
   "execution_count": null,
   "metadata": {
    "collapsed": true
   },
   "outputs": [],
   "source": [
    "# player_stats_df.to_csv(player_stats.csv, index=False)\n",
    "player_stats_df.PLAYER_NAME"
   ]
  },
  {
   "cell_type": "code",
   "execution_count": null,
   "metadata": {
    "collapsed": true
   },
   "outputs": [],
   "source": []
  }
 ],
 "metadata": {
  "kernelspec": {
   "display_name": "Python 3",
   "language": "python",
   "name": "python3"
  },
  "language_info": {
   "codemirror_mode": {
    "name": "ipython",
    "version": 3
   },
   "file_extension": ".py",
   "mimetype": "text/x-python",
   "name": "python",
   "nbconvert_exporter": "python",
   "pygments_lexer": "ipython3",
   "version": "3.6.2"
  }
 },
 "nbformat": 4,
 "nbformat_minor": 2
}
