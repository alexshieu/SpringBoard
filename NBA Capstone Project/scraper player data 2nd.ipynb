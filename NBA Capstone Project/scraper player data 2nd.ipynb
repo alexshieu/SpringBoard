{
 "cells": [
  {
   "cell_type": "code",
   "execution_count": 110,
   "metadata": {
    "collapsed": true
   },
   "outputs": [],
   "source": [
    "from urllib.request import urlopen\n",
    "from bs4 import BeautifulSoup\n",
    "import pandas as pd\n",
    "\n",
    "# Goal is to 1st create CSV of year player signed contract to be used for Web Scraper"
   ]
  },
  {
   "cell_type": "code",
   "execution_count": 111,
   "metadata": {
    "collapsed": true
   },
   "outputs": [],
   "source": [
    "filename = \"raw_data\\\\NBA_current_contracts.csv\"\n",
    "df = pd.read_csv(filename, parse_dates=True, encoding = \"ISO-8859-1\")"
   ]
  },
  {
   "cell_type": "code",
   "execution_count": 112,
   "metadata": {
    "scrolled": true
   },
   "outputs": [
    {
     "name": "stdout",
     "output_type": "stream",
     "text": [
      "<class 'pandas.core.frame.DataFrame'>\n",
      "RangeIndex: 560 entries, 0 to 559\n",
      "Data columns (total 4 columns):\n",
      "PLAYER_NAME             560 non-null object\n",
      "AGE                     560 non-null int64\n",
      "CONTRACT_LENGTH_YEAR    560 non-null int64\n",
      "CONTRACT_END_YEAR       560 non-null int64\n",
      "dtypes: int64(3), object(1)\n",
      "memory usage: 17.6+ KB\n"
     ]
    }
   ],
   "source": [
    "# Remove unneeded columns from df\n",
    "columns_not_needed = ['POS', 'TEAM', 'GUARANTEED', '% GTD', 'DOLLARS','AVG. SALARY']\n",
    "df = df.drop(columns_not_needed, axis='columns')\n",
    "# Tidy FREE AGENT column to CONTRACT_END_YEAR\n",
    "# Tidy YRS to CONTRACT_LENGTH_YEAR\n",
    "# Tidy PLAYER to PLAYER_NAME\n",
    "df.rename(columns={'FREE AGENT':'CONTRACT_END_YEAR',\n",
    "                   'YRS':'CONTRACT_LENGTH_YEAR',\n",
    "                   'PLAYER':'PLAYER_NAME'}, inplace=True)\n",
    "df.info()"
   ]
  },
  {
   "cell_type": "code",
   "execution_count": 113,
   "metadata": {},
   "outputs": [
    {
     "data": {
      "text/plain": [
       "0    Russell Westbrook \n",
       "1        Stephen Curry \n",
       "2        Blake Griffin \n",
       "3         James Harden \n",
       "4            John Wall \n",
       "Name: PLAYER_NAME, dtype: object"
      ]
     },
     "execution_count": 113,
     "metadata": {},
     "output_type": "execute_result"
    }
   ],
   "source": [
    "# Clean up PLAYER string\n",
    "df.PLAYER_NAME = [name[0] for name in df.PLAYER_NAME.str.split('(')]\n",
    "df.PLAYER_NAME.head()"
   ]
  },
  {
   "cell_type": "code",
   "execution_count": 114,
   "metadata": {},
   "outputs": [
    {
     "data": {
      "text/html": [
       "<div>\n",
       "<style>\n",
       "    .dataframe thead tr:only-child th {\n",
       "        text-align: right;\n",
       "    }\n",
       "\n",
       "    .dataframe thead th {\n",
       "        text-align: left;\n",
       "    }\n",
       "\n",
       "    .dataframe tbody tr th {\n",
       "        vertical-align: top;\n",
       "    }\n",
       "</style>\n",
       "<table border=\"1\" class=\"dataframe\">\n",
       "  <thead>\n",
       "    <tr style=\"text-align: right;\">\n",
       "      <th></th>\n",
       "      <th>PLAYER_NAME</th>\n",
       "      <th>AGE</th>\n",
       "      <th>CONTRACT_LENGTH_YEAR</th>\n",
       "      <th>CONTRACT_END_YEAR</th>\n",
       "      <th>PLAYER_LAST_INITIAL</th>\n",
       "      <th>PLAYER_LAST_NAME_FIRST_FIVE</th>\n",
       "      <th>PLAYER_FIRST_NAME_FIRST_TWO</th>\n",
       "    </tr>\n",
       "  </thead>\n",
       "  <tbody>\n",
       "    <tr>\n",
       "      <th>0</th>\n",
       "      <td>Russell Westbrook</td>\n",
       "      <td>28</td>\n",
       "      <td>5</td>\n",
       "      <td>2023</td>\n",
       "      <td>w</td>\n",
       "      <td>westb</td>\n",
       "      <td>ru</td>\n",
       "    </tr>\n",
       "    <tr>\n",
       "      <th>1</th>\n",
       "      <td>Stephen Curry</td>\n",
       "      <td>29</td>\n",
       "      <td>5</td>\n",
       "      <td>2022</td>\n",
       "      <td>c</td>\n",
       "      <td>curry</td>\n",
       "      <td>st</td>\n",
       "    </tr>\n",
       "    <tr>\n",
       "      <th>2</th>\n",
       "      <td>Blake Griffin</td>\n",
       "      <td>28</td>\n",
       "      <td>5</td>\n",
       "      <td>2022</td>\n",
       "      <td>g</td>\n",
       "      <td>griff</td>\n",
       "      <td>bl</td>\n",
       "    </tr>\n",
       "    <tr>\n",
       "      <th>3</th>\n",
       "      <td>James Harden</td>\n",
       "      <td>28</td>\n",
       "      <td>4</td>\n",
       "      <td>2023</td>\n",
       "      <td>h</td>\n",
       "      <td>harde</td>\n",
       "      <td>ja</td>\n",
       "    </tr>\n",
       "    <tr>\n",
       "      <th>4</th>\n",
       "      <td>John Wall</td>\n",
       "      <td>27</td>\n",
       "      <td>4</td>\n",
       "      <td>2023</td>\n",
       "      <td>w</td>\n",
       "      <td>wall</td>\n",
       "      <td>jo</td>\n",
       "    </tr>\n",
       "  </tbody>\n",
       "</table>\n",
       "</div>"
      ],
      "text/plain": [
       "          PLAYER_NAME  AGE  CONTRACT_LENGTH_YEAR  CONTRACT_END_YEAR  \\\n",
       "0  Russell Westbrook    28                     5               2023   \n",
       "1      Stephen Curry    29                     5               2022   \n",
       "2      Blake Griffin    28                     5               2022   \n",
       "3       James Harden    28                     4               2023   \n",
       "4          John Wall    27                     4               2023   \n",
       "\n",
       "  PLAYER_LAST_INITIAL PLAYER_LAST_NAME_FIRST_FIVE PLAYER_FIRST_NAME_FIRST_TWO  \n",
       "0                   w                       westb                          ru  \n",
       "1                   c                       curry                          st  \n",
       "2                   g                       griff                          bl  \n",
       "3                   h                       harde                          ja  \n",
       "4                   w                        wall                          jo  "
      ]
     },
     "execution_count": 114,
     "metadata": {},
     "output_type": "execute_result"
    }
   ],
   "source": [
    "# In order to web scrape basketball-reference.com we need to create the below\n",
    "\n",
    "# PLAYER_LAST_INITIAL representing the players last initial\n",
    "df['PLAYER_LAST_INITIAL'] = [name[1][0].lower() for name in df.PLAYER_NAME.str.split(' ')]\n",
    "\n",
    "# PLAYER_LAST_NAME_FIRST_FIVE representing the first 5 letters of a player's\n",
    "# last name\n",
    "df['PLAYER_LAST_NAME_FIRST_FIVE'] = [name[1][0:5].lower().rstrip() for name in df.PLAYER_NAME.str.split(' ')]\n",
    "# PLAYER_FIRST_NAME_FIRST_TWO representing the first 2 letters of a player's\n",
    "# first name\n",
    "df['PLAYER_FIRST_NAME_FIRST_TWO'] = [name[0][0:2].lower() for name in df.PLAYER_NAME.str.split(' ')]\n",
    "df.head()"
   ]
  },
  {
   "cell_type": "code",
   "execution_count": 117,
   "metadata": {},
   "outputs": [
    {
     "data": {
      "text/html": [
       "<div>\n",
       "<style>\n",
       "    .dataframe thead tr:only-child th {\n",
       "        text-align: right;\n",
       "    }\n",
       "\n",
       "    .dataframe thead th {\n",
       "        text-align: left;\n",
       "    }\n",
       "\n",
       "    .dataframe tbody tr th {\n",
       "        vertical-align: top;\n",
       "    }\n",
       "</style>\n",
       "<table border=\"1\" class=\"dataframe\">\n",
       "  <thead>\n",
       "    <tr style=\"text-align: right;\">\n",
       "      <th></th>\n",
       "      <th>PLAYER_NAME</th>\n",
       "      <th>AGE</th>\n",
       "      <th>CONTRACT_LENGTH_YEAR</th>\n",
       "      <th>CONTRACT_END_YEAR</th>\n",
       "      <th>PLAYER_LAST_INITIAL</th>\n",
       "      <th>PLAYER_LAST_NAME_FIRST_FIVE</th>\n",
       "      <th>PLAYER_FIRST_NAME_FIRST_TWO</th>\n",
       "      <th>CONTRACT_SIGNED_YEAR</th>\n",
       "      <th>BEFORE_SIGNED_YEAR</th>\n",
       "    </tr>\n",
       "  </thead>\n",
       "  <tbody>\n",
       "    <tr>\n",
       "      <th>0</th>\n",
       "      <td>Russell Westbrook</td>\n",
       "      <td>28</td>\n",
       "      <td>5</td>\n",
       "      <td>2023</td>\n",
       "      <td>w</td>\n",
       "      <td>westb</td>\n",
       "      <td>ru</td>\n",
       "      <td>2017</td>\n",
       "      <td>2016</td>\n",
       "    </tr>\n",
       "    <tr>\n",
       "      <th>1</th>\n",
       "      <td>Stephen Curry</td>\n",
       "      <td>29</td>\n",
       "      <td>5</td>\n",
       "      <td>2022</td>\n",
       "      <td>c</td>\n",
       "      <td>curry</td>\n",
       "      <td>st</td>\n",
       "      <td>2017</td>\n",
       "      <td>2016</td>\n",
       "    </tr>\n",
       "    <tr>\n",
       "      <th>2</th>\n",
       "      <td>Blake Griffin</td>\n",
       "      <td>28</td>\n",
       "      <td>5</td>\n",
       "      <td>2022</td>\n",
       "      <td>g</td>\n",
       "      <td>griff</td>\n",
       "      <td>bl</td>\n",
       "      <td>2017</td>\n",
       "      <td>2016</td>\n",
       "    </tr>\n",
       "    <tr>\n",
       "      <th>3</th>\n",
       "      <td>James Harden</td>\n",
       "      <td>28</td>\n",
       "      <td>4</td>\n",
       "      <td>2023</td>\n",
       "      <td>h</td>\n",
       "      <td>harde</td>\n",
       "      <td>ja</td>\n",
       "      <td>2017</td>\n",
       "      <td>2016</td>\n",
       "    </tr>\n",
       "    <tr>\n",
       "      <th>4</th>\n",
       "      <td>John Wall</td>\n",
       "      <td>27</td>\n",
       "      <td>4</td>\n",
       "      <td>2023</td>\n",
       "      <td>w</td>\n",
       "      <td>wall</td>\n",
       "      <td>jo</td>\n",
       "      <td>2017</td>\n",
       "      <td>2016</td>\n",
       "    </tr>\n",
       "  </tbody>\n",
       "</table>\n",
       "</div>"
      ],
      "text/plain": [
       "          PLAYER_NAME  AGE  CONTRACT_LENGTH_YEAR  CONTRACT_END_YEAR  \\\n",
       "0  Russell Westbrook    28                     5               2023   \n",
       "1      Stephen Curry    29                     5               2022   \n",
       "2      Blake Griffin    28                     5               2022   \n",
       "3       James Harden    28                     4               2023   \n",
       "4          John Wall    27                     4               2023   \n",
       "\n",
       "  PLAYER_LAST_INITIAL PLAYER_LAST_NAME_FIRST_FIVE PLAYER_FIRST_NAME_FIRST_TWO  \\\n",
       "0                   w                       westb                          ru   \n",
       "1                   c                       curry                          st   \n",
       "2                   g                       griff                          bl   \n",
       "3                   h                       harde                          ja   \n",
       "4                   w                        wall                          jo   \n",
       "\n",
       "   CONTRACT_SIGNED_YEAR  BEFORE_SIGNED_YEAR  \n",
       "0                  2017                2016  \n",
       "1                  2017                2016  \n",
       "2                  2017                2016  \n",
       "3                  2017                2016  \n",
       "4                  2017                2016  "
      ]
     },
     "execution_count": 117,
     "metadata": {},
     "output_type": "execute_result"
    }
   ],
   "source": [
    "# Calculate the year contract was signed as CONTRACT_SIGNED_YEAR\n",
    "df['CONTRACT_SIGNED_YEAR'] = df.CONTRACT_END_YEAR - df.CONTRACT_LENGTH_YEAR\n",
    "\n",
    "# All BEFORE_SIGNED_YEAR >= 2017 is set to 2017 as the data used in this\n",
    "# notebook was gathered in 2017 so the year the contract signed is 2017\n",
    "# This may occur as players already under contract may sign an extension\n",
    "# The extension begins after the currenct contract ends which may be in the \n",
    "# future. \n",
    "df.loc[df.CONTRACT_SIGNED_YEAR >= 2017, 'CONTRACT_SIGNED_YEAR']= 2017\n",
    "\n",
    "# Subtract 1 from CONTRACT_SIGNED_YEAR as BEFORE_SIGNED_YEAR \n",
    "# BEFORE_SIGNED_YEAR used to look up season stats before contract was signed\n",
    "df['BEFORE_SIGNED_YEAR'] = df.CONTRACT_SIGNED_YEAR - 1"
   ]
  },
  {
   "cell_type": "code",
   "execution_count": 119,
   "metadata": {
    "scrolled": true
   },
   "outputs": [
    {
     "ename": "TypeError",
     "evalue": "'bool' object is not iterable",
     "output_type": "error",
     "traceback": [
      "\u001b[1;31m---------------------------------------------------------------------------\u001b[0m",
      "\u001b[1;31mTypeError\u001b[0m                                 Traceback (most recent call last)",
      "\u001b[1;32m<ipython-input-119-307b60966693>\u001b[0m in \u001b[0;36m<module>\u001b[1;34m()\u001b[0m\n\u001b[0;32m     15\u001b[0m     \u001b[0mdata_rows\u001b[0m \u001b[1;33m=\u001b[0m \u001b[0msoup\u001b[0m\u001b[1;33m.\u001b[0m\u001b[0mfindAll\u001b[0m\u001b[1;33m(\u001b[0m\u001b[1;34m'tr'\u001b[0m\u001b[1;33m)\u001b[0m\u001b[1;33m[\u001b[0m\u001b[1;36m1\u001b[0m\u001b[1;33m:\u001b[0m\u001b[1;33m]\u001b[0m \u001b[1;31m#list\u001b[0m\u001b[1;33m\u001b[0m\u001b[0m\n\u001b[0;32m     16\u001b[0m     player_data = [[td.getText() for td in data_rows[i].findAll('td')]\n\u001b[1;32m---> 17\u001b[1;33m                    for i in (data_rows[0]==column.AGE)]\n\u001b[0m\u001b[0;32m     18\u001b[0m     \u001b[1;31m#column_headers = [th.getText() for th in\u001b[0m\u001b[1;33m\u001b[0m\u001b[1;33m\u001b[0m\u001b[0m\n\u001b[0;32m     19\u001b[0m     \u001b[1;31m#                  soup.findAll('tr', limit=1)[0].findAll('th')]\u001b[0m\u001b[1;33m\u001b[0m\u001b[1;33m\u001b[0m\u001b[0m\n",
      "\u001b[1;31mTypeError\u001b[0m: 'bool' object is not iterable"
     ]
    }
   ],
   "source": [
    "url_template = 'http://www.basketball-reference.com/players/{PLAYER_LAST_INITIAL}/{PLAYER_LAST_NAME_FIRST_FIVE}{PLAYER_FIRST_NAME_FIRST_TWO}01.html'\n",
    "\n",
    "# SLICE DF JUST FOR WORK. DONT FORGET TO DELETE ME\n",
    "df = df[0:5]\n",
    "\n",
    "# Iterate over\n",
    "for index, column in df.iterrows():\n",
    "    url = url_template.format(PLAYER_LAST_INITIAL=column.PLAYER_LAST_INITIAL,\n",
    "                              PLAYER_LAST_NAME_FIRST_FIVE=column.PLAYER_LAST_NAME_FIRST_FIVE,\n",
    "                              PLAYER_FIRST_NAME_FIRST_TWO=column.PLAYER_FIRST_NAME_FIRST_TWO)\n",
    "    html = urlopen(url)\n",
    "    soup = BeautifulSoup(html, 'html5lib')\n",
    "    \n",
    "    # Get player data and column headers\n",
    "    data_rows = soup.findAll('tr')[1:] #list\n",
    "    player_data = [[td.getText() for td in data_rows[i].findAll('td')]\n",
    "                   for i in (data_rows[0]==column.AGE)]\n",
    "    #column_headers = [th.getText() for th in\n",
    "    #                  soup.findAll('tr', limit=1)[0].findAll('th')]\n",
    "\n",
    "    #player_stats_df = pd.DataFrame(player_data, columns=column_headers[1:])\n",
    "    #print(player_stats_df)\n",
    "    #Insert Player Name\n",
    "    # player_stats_df = player_stats_df.append(0, column.PLAYER_NAME, PLAYER_NAME)\n",
    "    \n",
    "#PULL PLAYER DATA NEXT\n",
    "    # Turn yearly data into a Dataframe\n",
    "#    year_df = pd.DataFrame(player_data, columns=column_headers[1:])\n",
    "#    year_df.insert(0, 'Draft_Yr', year)\n",
    "    \n",
    "    #append to main draft dataframe\n",
    "#    draft_df = draft_df.append(year_df, ignore_index=True)\n"
   ]
  },
  {
   "cell_type": "code",
   "execution_count": null,
   "metadata": {
    "collapsed": true
   },
   "outputs": [],
   "source": []
  }
 ],
 "metadata": {
  "kernelspec": {
   "display_name": "Python 3",
   "language": "python",
   "name": "python3"
  },
  "language_info": {
   "codemirror_mode": {
    "name": "ipython",
    "version": 3
   },
   "file_extension": ".py",
   "mimetype": "text/x-python",
   "name": "python",
   "nbconvert_exporter": "python",
   "pygments_lexer": "ipython3",
   "version": "3.6.1"
  }
 },
 "nbformat": 4,
 "nbformat_minor": 2
}
