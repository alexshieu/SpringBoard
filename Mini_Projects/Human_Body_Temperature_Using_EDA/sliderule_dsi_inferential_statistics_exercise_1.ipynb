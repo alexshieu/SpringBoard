{
 "cells": [
  {
   "cell_type": "markdown",
   "metadata": {},
   "source": [
    "# What is the True Normal Human Body Temperature? \n",
    "\n",
    "#### Background\n",
    "\n",
    "The mean normal body temperature was held to be 37$^{\\circ}$C or 98.6$^{\\circ}$F for more than 120 years since it was first conceptualized and reported by Carl Wunderlich in a famous 1868 book. But, is this value statistically correct?"
   ]
  },
  {
   "cell_type": "markdown",
   "metadata": {},
   "source": [
    "<h3>Exercises</h3>\n",
    "\n",
    "<p>In this exercise, you will analyze a dataset of human body temperatures and employ the concepts of hypothesis testing, confidence intervals, and statistical significance.</p>\n",
    "\n",
    "<p>Answer the following questions <b>in this notebook below and submit to your Github account</b>.</p> \n",
    "\n",
    "<ol>\n",
    "<li>  Is the distribution of body temperatures normal? \n",
    "    <ul>\n",
    "    <li> Although this is not a requirement for CLT to hold (read CLT carefully), it gives us some peace of mind that the population may also be normally distributed if we assume that this sample is representative of the population.\n",
    "    </ul>\n",
    "<li>  Is the sample size large? Are the observations independent?\n",
    "    <ul>\n",
    "    <li> Remember that this is a condition for the CLT, and hence the statistical tests we are using, to apply.\n",
    "    </ul>\n",
    "<li>  Is the true population mean really 98.6 degrees F?\n",
    "    <ul>\n",
    "    <li> Would you use a one-sample or two-sample test? Why?\n",
    "    <li> In this situation, is it appropriate to use the $t$ or $z$ statistic? \n",
    "    <li> Now try using the other test. How is the result be different? Why?\n",
    "    </ul>\n",
    "<li>  Draw a small sample of size 10 from the data and repeat both tests. \n",
    "    <ul>\n",
    "    <li> Which one is the correct one to use? \n",
    "    <li> What do you notice? What does this tell you about the difference in application of the $t$ and $z$ statistic?\n",
    "    </ul>\n",
    "<li>  At what temperature should we consider someone's temperature to be \"abnormal\"?\n",
    "    <ul>\n",
    "    <li> Start by computing the margin of error and confidence interval.\n",
    "    </ul>\n",
    "<li>  Is there a significant difference between males and females in normal temperature?\n",
    "    <ul>\n",
    "    <li> What test did you use and why?\n",
    "    <li> Write a story with your conclusion in the context of the original problem.\n",
    "    </ul>\n",
    "</ol>\n",
    "\n",
    "You can include written notes in notebook cells using Markdown: \n",
    "   - In the control panel at the top, choose Cell > Cell Type > Markdown\n",
    "   - Markdown syntax: http://nestacms.com/docs/creating-content/markdown-cheat-sheet\n",
    "\n",
    "#### Resources\n",
    "\n",
    "+ Information and data sources: http://www.amstat.org/publications/jse/datasets/normtemp.txt, http://www.amstat.org/publications/jse/jse_data_archive.htm\n",
    "+ Markdown syntax: http://nestacms.com/docs/creating-content/markdown-cheat-sheet\n",
    "\n",
    "****"
   ]
  },
  {
   "cell_type": "code",
   "execution_count": 2,
   "metadata": {
    "collapsed": true
   },
   "outputs": [],
   "source": [
    "import pandas as pd\n",
    "import numpy as np\n",
    "import matplotlib.pyplot as plt\n",
    "import matplotlib.mlab as mlab\n",
    "import seaborn as sns\n",
    "import math\n",
    "import scipy\n",
    "\n",
    "df = pd.read_csv('data/human_body_temperature.csv')"
   ]
  },
  {
   "cell_type": "code",
   "execution_count": 3,
   "metadata": {},
   "outputs": [
    {
     "name": "stdout",
     "output_type": "stream",
     "text": [
      "   temperature gender  heart_rate\n",
      "0         99.3      F        68.0\n",
      "1         98.4      F        81.0\n",
      "2         97.8      M        73.0\n",
      "3         99.2      F        66.0\n",
      "4         98.0      F        73.0\n",
      "       temperature  heart_rate\n",
      "count   130.000000  130.000000\n",
      "mean     98.249231   73.761538\n",
      "std       0.733183    7.062077\n",
      "min      96.300000   57.000000\n",
      "25%      97.800000   69.000000\n",
      "50%      98.300000   74.000000\n",
      "75%      98.700000   79.000000\n",
      "max     100.800000   89.000000\n",
      "<class 'pandas.core.frame.DataFrame'>\n",
      "RangeIndex: 130 entries, 0 to 129\n",
      "Data columns (total 3 columns):\n",
      "temperature    130 non-null float64\n",
      "gender         130 non-null object\n",
      "heart_rate     130 non-null float64\n",
      "dtypes: float64(2), object(1)\n",
      "memory usage: 3.1+ KB\n",
      "None\n"
     ]
    }
   ],
   "source": [
    "print(df.head())\n",
    "print(df.describe())\n",
    "print(df.info())"
   ]
  },
  {
   "cell_type": "code",
   "execution_count": 4,
   "metadata": {},
   "outputs": [
    {
     "data": {
      "image/png": "[encoded data removed]",
      "text/plain": [
       "<matplotlib.figure.Figure at 0x2a86f6179e8>"
      ]
     },
     "metadata": {},
     "output_type": "display_data"
    }
   ],
   "source": [
    "_ = plt.hist(df.temperature, bins=11, normed=True) # 11 bins from sqrt 130 samples\n",
    "_ = plt.xlabel('temperature degrees F')\n",
    "_ = plt.ylabel('Histogram')\n",
    "_ = plt.title('Histogram of temperature degrees F')\n",
    "\n",
    "mu = 98.25\n",
    "sigma = 0.733\n",
    "x = np.linspace(mu-3*sigma, mu+3*sigma, 100)\n",
    "_ = plt.plot(x, mlab.normpdf(x, mu, sigma))\n",
    "plt.show()"
   ]
  },
  {
   "cell_type": "markdown",
   "metadata": {},
   "source": [
    "1. Is the distribution of body temperatures normal?\n",
    "The histogram of body temperature is roughly normally distbuted\n",
    "\n",
    "2. Is the sample size large? Are the observations independent?\n",
    "We have 130 samples. If our population is humanity which is approximately 6 billion people on earth then with 130 samples we get between a 5-10% margin of error at 95% confidence level from [Sample Size Calulation](https://help.surveymonkey.com/articles/en_US/kb/How-many-respondents-do-I-need)\n",
    "\n",
    "The data was gathered from an article in the [*Journal of the American Medical Association* entitled \"A Critical Appraisal of 98.6 Degrees F, the Upper Limit of the Normal Body Temperature, and Other Legacies of Carl Reinhold August Wunderlich\"](https://www.ncbi.nlm.nih.gov/pubmed/1302471) \n",
    "\n",
    "The article states the observations were gathered one to four times daily for 3 consecutive days using an electronic digital thermometer. The observations do not appear have any inherent dependency. If they used the same thermometer and did one measurement after another and did not wait a sufficient amount of time to allow the thermometer to reach equilibrium then there is a possible dependency, but this is unlikely to be the case."
   ]
  },
  {
   "cell_type": "code",
   "execution_count": 25,
   "metadata": {},
   "outputs": [
    {
     "name": "stdout",
     "output_type": "stream",
     "text": [
      "        temperature  heart_rate\n",
      "gender                         \n",
      "F                65          65\n",
      "M                65          65\n",
      "z_score:  -5.44422099297\n"
     ]
    }
   ],
   "source": [
    "print(df.groupby('gender').count())\n",
    "z_score = (mu-98.6) / (sigma / np.sqrt(130))\n",
    "print('z_score: ',z_score)"
   ]
  },
  {
   "cell_type": "markdown",
   "metadata": {
    "collapsed": true
   },
   "source": [
    "3. Is the true population mean really 98.6 degrees F?\n",
    "It seems unlikely as from the sample set the chance of 98.6 degrees F occurs less than 5.45 sigma of the time. \n",
    "\n",
    "Would you use a one-sample or two-sample test? Why?\n",
    "We can use a one-sample test to compare the mean of 98.2 to the population as there is a 50/50 ratio of male to female in the \n",
    "sample set which matches 50/50 population. \n",
    "\n",
    "In this situation, is it appropriate to use the  tt  or  zz  statistic?\n",
    "It's appropriate to use either the Z statistic or T statistic as we have sufficient samples > 30 so the T statistic distribution will match the Z statistics distribution which is normal.\n",
    "\n",
    "Now try using the other test. How is the result be different? Why?\n",
    "Z score is -5.44 Sigma while the T score is 5.45 with 129 degrees of freedom. \n",
    "\n",
    "The results are different as the Z statistic uses a normal distribution while the T statistic uses the student-T distribution. However in this case the difference is negibile as we are at the very extremes of the long tails and we have more than 30 samples so the student-T distribution converges to the normal."
   ]
  },
  {
   "cell_type": "code",
   "execution_count": 5,
   "metadata": {},
   "outputs": [
    {
     "name": "stdout",
     "output_type": "stream",
     "text": [
      "t_statistic:  0.708100988183\n"
     ]
    }
   ],
   "source": [
    "bs_sample = np.random.choice(df.temperature, 10)\n",
    "mu_10 = np.mean(bs_sample)\n",
    "sigma_10 = np.std(bs_sample)\n",
    "t_statistic = (mu_10-98.6) / (sigma_10 / np.sqrt(10))\n",
    "print('t_statistic: ',t_statistic)"
   ]
  },
  {
   "cell_type": "markdown",
   "metadata": {},
   "source": [
    "4. Draw a small sample of size 10 from the data and repeat both tests.\n",
    "Which one is the correct one to use?\n",
    "Here the t-statistic is the correct one to use as we have a sample size < 10 so the t distribution will not be close to normal.\n",
    "\n",
    "What do you notice? \n",
    "T-Score is 3 sigma away instead of 5.45.\n",
    "\n",
    "What does this tell you about the difference in application of the  tt and  zz  statistic?\n",
    "Z_score is better used with > 30 samples while T-score is better used with < 30 samples"
   ]
  },
  {
   "cell_type": "code",
   "execution_count": 11,
   "metadata": {},
   "outputs": [
    {
     "name": "stdout",
     "output_type": "stream",
     "text": [
      "Margin of error:  0.126005171518\n",
      "Upper bound:  98.3760051715\n",
      "Lower bound:  98.1239948285\n"
     ]
    }
   ],
   "source": [
    "z = 1.96 # 95% confidence interval\n",
    "margin_of_error = 1.96 * sigma / np.sqrt(130)\n",
    "lower_95 = mu - margin_of_error\n",
    "upper_95 = mu + margin_of_error\n",
    "print('Margin of error: ', margin_of_error)\n",
    "print('Upper bound: ', upper_95)\n",
    "print('Lower bound: ', lower_95)"
   ]
  },
  {
   "cell_type": "markdown",
   "metadata": {},
   "source": [
    "5. At what temperature should we consider someone's temperature to be \"abnormal\"? Start by computing the margin of error and confidence interval.\n",
    "\n",
    "Assuming a 95% confidence interval the range of values from we can consider someone's temperature to be abnormal is above 98.38 and below 98.12"
   ]
  },
  {
   "cell_type": "code",
   "execution_count": 15,
   "metadata": {},
   "outputs": [
    {
     "name": "stdout",
     "output_type": "stream",
     "text": [
      "98.1046153846154 0.6933598841828696 98.39384615384613 0.7377464486428966\n"
     ]
    }
   ],
   "source": [
    "mu_male = np.mean(df.temperature.loc[df.gender == 'M'])\n",
    "sigma_male = np.std(df.temperature.loc[df.gender == 'M'])\n",
    "mu_female = np.mean(df.temperature.loc[df.gender == 'F'])\n",
    "sigma_female = np.std(df.temperature.loc[df.gender == 'F'])\n",
    "print(mu_male, sigma_male, mu_female, sigma_female)"
   ]
  },
  {
   "cell_type": "code",
   "execution_count": 28,
   "metadata": {},
   "outputs": [
    {
     "name": "stdout",
     "output_type": "stream",
     "text": [
      "p-value = 0.988\n"
     ]
    }
   ],
   "source": [
    "# There is overlap within 1 sigma between the means. \n",
    "# Further investigation using permutation replicates to test null hypothesis\n",
    "\n",
    "# Permutation sample function random reordering of entries in an array\n",
    "def permutation_sample(array1, array2):\n",
    "    concat_array = np.concatenate((array1, array2))\n",
    "    permutation = np.random.permutation(concat_array)\n",
    "    new_array1 = permutation[:len(array1)]\n",
    "    new_array2 = permutation[len(array2):]\n",
    "    return new_array1, new_array2\n",
    "\n",
    "# Permutation Replicates function on 2 arrays data_1 and data_2\n",
    "# Running function func with number of runs equal to size\n",
    "def draw_perm_reps(data_1, data_2, func, size=1):\n",
    "    perm_replicates = np.empty(size)\n",
    "    for i in range(size):\n",
    "        # Generate permutation sample from permutation sample function\n",
    "        perm_sample_1, perm_sample_2 = permutation_sample(data_1, data_2)\n",
    "        perm_replicates[i] = func(perm_sample_1, perm_sample_2)\n",
    "    return perm_replicates\n",
    "\n",
    "# Difference of means between 2 arrays data_1 and data_2\n",
    "def diff_of_means(data_1, data_2):\n",
    "    diff = np.mean(data_1) - np.mean(data_2)\n",
    "    return diff\n",
    "\n",
    "# Calculate sample mean differences to be used for calculating p-value\n",
    "empirical_diff_means = mu_male - mu_female\n",
    "\n",
    "# Seperate male and female temperatures in order to run permutation\n",
    "male_temperature = df.temperature.loc[df.gender == 'M']\n",
    "female_temperature = df.temperature.loc[df.gender == 'F']\n",
    "\n",
    "# Draw 10,000 permutation replicates: perm_replicates\n",
    "perm_replicates = draw_perm_reps(male_temperature, female_temperature,\n",
    "                                 diff_of_means, size=10000)\n",
    "\n",
    "#Calculate p-value: p\n",
    "p = np.sum(perm_replicates >= empirical_diff_means) / len(perm_replicates)\n",
    "print('p-value =', p)"
   ]
  },
  {
   "cell_type": "markdown",
   "metadata": {},
   "source": [
    "6. Is there a significant difference between males and females in normal temperature? What test did you use and why? Write a story with your conclusion in the context of the original problem.\n",
    "\n",
    "Our question is whether male and females have a significantly different normal temperatures. \n",
    "\n",
    "Data was gathered by taking temperature measurements one to four times daily for 3 consecutive days using an electronic digital thermometer on males and females.  We gathered 65 male and 65 female temperature readings.\n",
    "\n",
    "Our null hypothesis is that male and female normal temperatures are the same. We will use the mean of the male and female temperature readings as the normal temperature. Therefore our test statistic will be the difference between male and female mean temperatures. \n",
    "\n",
    "We combined the male and female temperature readings into 1 array assuming they are the same. We ran 10,000 permutation samples. For each sample we pulled 65 random values from the array as male and 65 as female. We calculated the difference means of between male and female arrays for the 10,000 samples. We calculated the p-value of the permutations with a difference of means greater than our sample mean set. We find a p-value of 0.988 meaning that we can expect to see the difference of means for our sample mean set 98.8% of the time under null hypothesis. It is highly likely that male and female temperatures are not sigificantly different and are the same"
   ]
  }
 ],
 "metadata": {
  "kernelspec": {
   "display_name": "Python 3",
   "language": "python",
   "name": "python3"
  },
  "language_info": {
   "codemirror_mode": {
    "name": "ipython",
    "version": 3
   },
   "file_extension": ".py",
   "mimetype": "text/x-python",
   "name": "python",
   "nbconvert_exporter": "python",
   "pygments_lexer": "ipython3",
   "version": "3.6.2"
  }
 },
 "nbformat": 4,
 "nbformat_minor": 1
}
